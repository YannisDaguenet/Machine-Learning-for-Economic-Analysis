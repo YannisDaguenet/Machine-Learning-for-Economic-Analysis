{
 "cells": [
  {
   "cell_type": "markdown",
   "metadata": {},
   "source": [
    "# Session 9 - Post-double Selection"
   ]
  },
  {
   "cell_type": "markdown",
   "metadata": {},
   "source": [
    "## Contents\n",
    "\n",
    "- [Frisch-Waugh Theorem](#Frisch-Waugh-Theorem)\n",
    "- [Omitted Variable Bias](#Omitted-Variable-Bias)\n",
    "- [Pre-Test Bias](#Pre-Test-Bias)\n",
    "- [Post-double selection](#Post-double-selection)\n",
    "- [Double/debiased machine learning](#Double/debiased-machine-learning)\n"
   ]
  },
  {
   "cell_type": "code",
   "execution_count": 24,
   "metadata": {},
   "outputs": [],
   "source": [
    "# Import everything\n",
    "import pandas as pd\n",
    "import numpy as np\n",
    "import seaborn as sns\n",
    "import statsmodels.api as sm\n",
    "\n",
    "from numpy.linalg import inv\n",
    "from statsmodels.iolib.summary2 import summary_col\n",
    "from sklearn.model_selection import train_test_split\n",
    "from sklearn.linear_model import LinearRegression, Lasso, Ridge\n",
    "from sklearn.tree import DecisionTreeRegressor\n",
    "from sklearn.ensemble import RandomForestRegressor, GradientBoostingRegressor\n",
    "from sklearn.preprocessing import PolynomialFeatures, StandardScaler"
   ]
  },
  {
   "cell_type": "code",
   "execution_count": 22,
   "metadata": {},
   "outputs": [],
   "source": [
    "# Import matplotlib for graphs\n",
    "import matplotlib.pyplot as plt\n",
    "from mpl_toolkits.mplot3d import axes3d\n",
    "\n",
    "# Set global parameters\n",
    "%matplotlib inline\n",
    "plt.style.use('seaborn-white')\n",
    "plt.rcParams['lines.linewidth'] = 3\n",
    "plt.rcParams['figure.figsize'] = (10,6)\n",
    "plt.rcParams['figure.titlesize'] = 20\n",
    "plt.rcParams['axes.titlesize'] = 18\n",
    "plt.rcParams['axes.labelsize'] = 14\n",
    "plt.rcParams['legend.fontsize'] = 14"
   ]
  },
  {
   "cell_type": "markdown",
   "metadata": {},
   "source": [
    "## Frisch-Waugh theorem"
   ]
  },
  {
   "cell_type": "markdown",
   "metadata": {},
   "source": [
    "Consider the data $D = \\{ x_i, y_i, z_i \\}_{i=1}^\\infty$ with DGP:\n",
    "\n",
    "$$\n",
    "y_i = \\alpha x_i + \\beta z_i + \\varepsilon_i\n",
    "$$\n",
    "\n",
    ". The following estimators of $\\alpha$ are numerically equivalent (if $[x, z]$ has full rank):\n",
    "\n",
    "- OLS: $\\hat{\\alpha}$ from regressing $y$ on $x, z$\n",
    "- Partialling out: $\\tilde{\\alpha}$ from regressing $y$ on $\\tilde{x}$\n",
    "- \"Double\" partialling out: $\\bar{\\alpha}$ from regressing $\\tilde{y}$ on $\\tilde{x}$\n",
    "\n",
    "where the operation of passing to $y, x$ to $\\tilde{y}, \\tilde{x}$ is called *projection  out $z$*, e.g. $\\tilde{x}$ are the residuals from regressing $x$ on $z$.\n",
    "\n",
    "$$\n",
    "\\tilde{x} = (I - z (z' z)^{-1} z' ) x = (I-P) x = M x\n",
    "$$\n",
    "\n",
    "I.e we have done the following:\n",
    " 1. regress $x$ on $z$\n",
    " 2. compute $\\hat x$\n",
    " 3. compute the residuals $\\tilde x = x - \\hat x$\n",
    " \n",
    "We now explore the theorem through simulation."
   ]
  },
  {
   "cell_type": "code",
   "execution_count": 5,
   "metadata": {},
   "outputs": [],
   "source": [
    "np.random.seed(1)\n",
    "\n",
    "# Init\n",
    "N = 1000\n",
    "a = 1\n",
    "b = -.3\n",
    "\n",
    "# Generate data\n",
    "x = np.random.uniform(0,1,N).reshape(-1,1)\n",
    "z = np.random.uniform(0,1,N).reshape(-1,1)\n",
    "e = np.random.normal(0,1,N).reshape(-1,1)\n",
    "y = a*x + b*z + e"
   ]
  },
  {
   "cell_type": "code",
   "execution_count": 6,
   "metadata": {},
   "outputs": [
    {
     "name": "stdout",
     "output_type": "stream",
     "text": [
      "alpha OLS: 1.0928 (true=1)\n"
     ]
    }
   ],
   "source": [
    "# Estimate alpha by OLS\n",
    "xz = np.concatenate([x,z], axis=1)\n",
    "ols_coeff = inv(xz.T @ xz) @ xz.T @ y\n",
    "alpha_ols = ols_coeff[0][0]\n",
    "\n",
    "print('alpha OLS: %.4f (true=%1.0f)' % (alpha_ols, a))"
   ]
  },
  {
   "cell_type": "code",
   "execution_count": 7,
   "metadata": {},
   "outputs": [
    {
     "name": "stdout",
     "output_type": "stream",
     "text": [
      "alpha partialling out: 1.0928 (true=1)\n"
     ]
    }
   ],
   "source": [
    "# Partialling out\n",
    "x_tilde = (np.eye(N) - z @ inv(z.T @ z) @ z.T ) @ x\n",
    "alpha_po = inv(x_tilde.T @ x_tilde) @ x_tilde.T @ y\n",
    "\n",
    "print('alpha partialling out: %.4f (true=%1.0f)' % (alpha_po, a))"
   ]
  },
  {
   "cell_type": "code",
   "execution_count": 8,
   "metadata": {},
   "outputs": [
    {
     "name": "stdout",
     "output_type": "stream",
     "text": [
      "alpha double partialling out: 1.0928 (true=1)\n"
     ]
    }
   ],
   "source": [
    "# \"Double\" partialling out\n",
    "y_tilde = (np.eye(N) - z @ inv(z.T @ z) @ z.T ) @ y\n",
    "alpha_po2 = inv(x_tilde.T @ x_tilde) @ x_tilde.T @ y_tilde\n",
    "\n",
    "print('alpha double partialling out: %.4f (true=%1.0f)' % (alpha_po2, a))"
   ]
  },
  {
   "cell_type": "markdown",
   "metadata": {},
   "source": [
    "## Omitted Variable Bias"
   ]
  },
  {
   "cell_type": "markdown",
   "metadata": {},
   "source": [
    "Consider two separate statistical models. Assume the following **long regression** of interest:\n",
    "\n",
    "$$\n",
    "y_i = x_i' \\alpha_0+ z_i' \\beta_0 + \\varepsilon_i\n",
    "$$\n",
    "\n",
    "Define the corresponding **short regression** as\n",
    "\n",
    "$$\n",
    "  y_i = x_i' \\alpha_0 + v_i \\quad \\text{ with } \\quad v_i = z_i' \\beta_0 + \\varepsilon_i\n",
    "$$\n",
    "\n",
    "**OVB Theorem**:\n",
    "Suppose that the DGP for the long regression corresponds to $\\alpha_0$, $\\beta_0$. Suppose further that $\\mathbb E[x_i] = 0$, $\\mathbb E[z_i] = 0$, $\\mathbb E[\\varepsilon_i |x_i,z_i] = 0$. Then, unless $\\beta_0 = 0$ or $z_i$ is orthogonal to $x_i$, the (sole) stochastic regressor $x_i$ is correlated with the error term in the short regression which implies that the OLS estimator of the short regression is inconsistent for $\\alpha_0$ due to the omitted variable bias. In particular, one can show that the plim of the OLS estimator of $\\hat{\\alpha}_{SHORT}$ from the short regression is\n",
    "$$\n",
    "\\hat{\\alpha}_{SHORT} \\overset{p}{\\to} \\frac{Cov(y_i, x_i)}{Var(x_i)} = \\alpha_0 + \\beta_0 \\frac{Cov(z_i, x_i)}{Var(x_i)}\n",
    "$$\n",
    "\n",
    "Consider data $D= (y_i, x_i, z_i)_{i=1}^n$, where the true model is:\n",
    "\n",
    "$$\n",
    "\\begin{aligned}\n",
    "& y_i = x_i' \\alpha_0  + z_i' \\beta_0 + \\varepsilon_i \\\\\n",
    "& x_i = z_i' \\gamma_0 + u_i\n",
    "\\end{aligned}\n",
    "$$\n",
    "\n",
    "Let's investigate the Omitteb Variable Bias by simulation."
   ]
  },
  {
   "cell_type": "code",
   "execution_count": 7,
   "metadata": {},
   "outputs": [],
   "source": [
    "def generate_data(a, b, c, N):\n",
    "\n",
    "    # Generate data\n",
    "    z = np.random.normal(0,1,N).reshape(-1,1)\n",
    "    u = np.random.normal(0,1,N).reshape(-1,1)\n",
    "    x = c*z + u\n",
    "    e = np.random.normal(0,1,N).reshape(-1,1)\n",
    "    y = a*x + b*z + e\n",
    "    \n",
    "    return x, y, z"
   ]
  },
  {
   "cell_type": "code",
   "execution_count": 8,
   "metadata": {},
   "outputs": [
    {
     "name": "stdout",
     "output_type": "stream",
     "text": [
      "alpha OLS: 0.9115 (true=1)\n"
     ]
    }
   ],
   "source": [
    "# Init\n",
    "N = 1000\n",
    "a = 1\n",
    "b = -.3\n",
    "c = 3\n",
    "x, y, z = generate_data(a, b, c, N)\n",
    "\n",
    "# Estimate alpha by OLS\n",
    "ols_coeff = inv(x.T @ x) @ x.T @ y\n",
    "alpha_ols = ols_coeff[0][0]\n",
    "\n",
    "print('alpha OLS: %.4f (true=%1.0f)' % (alpha_ols, a))"
   ]
  },
  {
   "cell_type": "markdown",
   "metadata": {},
   "source": [
    "In our case the expected bias is:\n",
    "\n",
    "$$\n",
    "Bias = \\beta_0 \\frac{Cov(z_i, x_i)}{Var(x_i)} = \\\\\n",
    "= \\beta_0 \\frac{Cov(z_i' \\gamma_0 + u_i, x_i)}{Var(z_i' \\gamma_0 + u_i)} = \\\\\n",
    "= \\beta_0 \\frac{\\gamma_0 Var(z_i)}{\\gamma_0^2 Var(z_i) + Var(u_i)} = \\\\\n",
    "$$\n",
    "\n",
    "which in our case is $b \\frac{c}{c^2 + 1}$."
   ]
  },
  {
   "cell_type": "code",
   "execution_count": 9,
   "metadata": {},
   "outputs": [
    {
     "name": "stdout",
     "output_type": "stream",
     "text": [
      "Bias: -0.0885 (expected=-0.0900)\n"
     ]
    }
   ],
   "source": [
    "# Expected bias\n",
    "bias = alpha_ols - a\n",
    "exp_bias = b * c / (c**2 + 1)\n",
    "\n",
    "print('Bias: %.4f (expected=%.4f)' % (bias, exp_bias))"
   ]
  },
  {
   "cell_type": "markdown",
   "metadata": {},
   "source": [
    "## Pre-test bias"
   ]
  },
  {
   "cell_type": "markdown",
   "metadata": {},
   "source": [
    "Consider data $D= (y_i, x_i, z_i)_{i=1}^n$, where the true model is:\n",
    "\n",
    "$$\n",
    "\\begin{aligned}\n",
    "& y_i = x_i' \\alpha_0  + z_i' \\beta_0 + \\varepsilon_i \\\\\n",
    "& x_i = z_i' \\gamma_0 + u_i\n",
    "\\end{aligned}\n",
    "$$\n",
    "\n",
    "Where $x_i$ is the variable of interest (we want to make inference on $\\alpha_0$) and $z_i$ is a high dimensional set of control variables. \n",
    "\n",
    "From now on, we will work under the following assumptions:\n",
    "\n",
    "- $\\dim(x_i)=1$ for all $n$\n",
    "- $\\beta_0$ uniformely bounded in $n$\n",
    "- Strict exogeneity: $\\mathbb E[\\varepsilon_i | x_i, z_i] = 0$ and $\\mathbb E[u_i | z_i] = 0$\n",
    "- $\\beta_0$ and $\\gamma_0$ have dimension (and hence value) that depend on $n$\n",
    "\n",
    "Pre-Testing procedure:\n",
    "\n",
    "1. Regress $y_i$ on $x_i$ and $z_i$\n",
    "2. For each $j = 1, ..., p = \\dim(z_i)$ calculate a test statistic $t_j$\n",
    "3. Let $\\hat{T} = \\{ j: |t_j| > C > 0 \\}$ for some constant $C$ (set of statistically significant coefficients).\n",
    "4. Re-run the new \"model\" using $(x_i, z_{\\hat{T},i})$ (i.e. using the selected covariates with statistically significant coefficients).\n",
    "5. Perform statistical inference (i.e. confidence intervals and hypothesis tests) as if no model selection had been done.\n",
    "\n",
    "Pre-testing leads to incorrect inference. Why? Because of test errors in the first stage."
   ]
  },
  {
   "cell_type": "code",
   "execution_count": 10,
   "metadata": {},
   "outputs": [],
   "source": [
    "# T-test\n",
    "def t_test(y, x, k):\n",
    "    beta_hat = inv(x.T @ x) @ x.T @ y\n",
    "    residuals = y - x @ beta_hat\n",
    "    sigma_hat = np.var(residuals)\n",
    "    beta_std = np.sqrt(np.diag(inv(x.T @ x)) * sigma_hat )\n",
    "    return beta_hat[k,0]/beta_std[k]"
   ]
  },
  {
   "cell_type": "markdown",
   "metadata": {},
   "source": [
    "First of all the t-test for $H_0: \\beta_0 = 0$:\n",
    "\n",
    "$$\n",
    "t = \\frac{\\hat \\beta_k}{\\sigma_{\\beta_k}}\n",
    "$$\n",
    "\n",
    "where the standard deviation of the ols coefficient is given by\n",
    "\n",
    "$$\n",
    "\\sigma_{\\beta_k} = \\sqrt{ \\hat \\sigma^2 \\cdot (X'X)^{-1}_{[k,k]} }\n",
    "$$\n",
    "\n",
    "where we estimate the variance of the error term with the variance of the residuals\n",
    "\n",
    "$$\n",
    "\\hat \\sigma^2 = Var \\big( y - \\hat y \\big) = Var \\big( y - X (X'X)^{-1}X'y \\big)\n",
    "$$"
   ]
  },
  {
   "cell_type": "code",
   "execution_count": 11,
   "metadata": {},
   "outputs": [],
   "source": [
    "# Pre-testing\n",
    "def pre_testing(a, b, c, N, simulations=1000):\n",
    "    np.random.seed(1)\n",
    "    \n",
    "    # Init\n",
    "    alpha = {'Long': np.zeros((simulations,1)),\n",
    "            'Short': np.zeros((simulations,1)),\n",
    "            'Pre-test': np.zeros((simulations,1))}\n",
    "\n",
    "    # Loop over simulations\n",
    "    for i in range(simulations):\n",
    "        \n",
    "        # Generate data\n",
    "        x, y, z = generate_data(a, b, c, N)\n",
    "        \n",
    "        # Compute coefficients\n",
    "        xz = np.concatenate([x,z], axis=1)\n",
    "        alpha['Long'][i] = (inv(xz.T @ xz) @ xz.T @ y)[0][0]\n",
    "        alpha['Short'][i] = inv(x.T @ x) @ x.T @ y\n",
    "        \n",
    "        # Compute significance of z on y\n",
    "        t = t_test(y, xz, 1)\n",
    "        \n",
    "        # Select specification based on test\n",
    "        if np.abs(t)>1.96:\n",
    "            alpha['Pre-test'][i] = alpha['Long'][i]\n",
    "        else:\n",
    "            alpha['Pre-test'][i] = alpha['Short'][i]\n",
    "    \n",
    "    return alpha"
   ]
  },
  {
   "cell_type": "code",
   "execution_count": 12,
   "metadata": {},
   "outputs": [
    {
     "name": "stdout",
     "output_type": "stream",
     "text": [
      "Mean alpha Long = 0.9994\n",
      "Mean alpha Short = 0.9095\n",
      "Mean alpha Pre-test = 0.9925\n"
     ]
    }
   ],
   "source": [
    "# Get pre_test alpha\n",
    "alpha = pre_testing(a, b, c, N)\n",
    "\n",
    "for key, value in alpha.items():\n",
    "    print('Mean alpha %s = %.4f' % (key, np.mean(value)))"
   ]
  },
  {
   "cell_type": "markdown",
   "metadata": {},
   "source": [
    "The pre-testing coefficient is much less biased than the short regression one. But it's still biased."
   ]
  },
  {
   "cell_type": "code",
   "execution_count": 13,
   "metadata": {},
   "outputs": [],
   "source": [
    "def plot_alpha(alpha, a):\n",
    "    \n",
    "    fig = plt.figure(figsize=(17,6))\n",
    "\n",
    "    # Plot distributions\n",
    "    x_max = np.max([np.max(np.abs(x-a)) for x in alpha.values()])\n",
    "\n",
    "    # All axes\n",
    "    for i, key in enumerate(alpha.keys()):\n",
    "        \n",
    "        # Reshape exisiting subplots\n",
    "        k = len(fig.axes)\n",
    "        for i in range(k):\n",
    "            fig.axes[i].change_geometry(1, k+1, i+1)\n",
    "            \n",
    "        # Add new plot\n",
    "        ax = fig.add_subplot(1, k+1, k+1)\n",
    "        ax.hist(alpha[key], bins=30)\n",
    "        ax.set_title(key)\n",
    "        ax.set_xlim([a-x_max, a+x_max])\n",
    "        ax.axvline(a, c='r', ls='--')\n",
    "        legend_text = [r'$\\alpha_0=%.0f$' % a, r'$\\hat \\alpha=%.4f$' % np.mean(alpha[key])]\n",
    "        ax.legend(legend_text, prop={'size': 10})"
   ]
  },
  {
   "cell_type": "code",
   "execution_count": 14,
   "metadata": {},
   "outputs": [
    {
     "data": {
      "image/png": "[encoded data removed]",
      "text/plain": [
       "<Figure size 1224x432 with 3 Axes>"
      ]
     },
     "metadata": {},
     "output_type": "display_data"
    }
   ],
   "source": [
    "# Plot\n",
    "plot_alpha(alpha, a)"
   ]
  },
  {
   "cell_type": "markdown",
   "metadata": {},
   "source": [
    "When is pre-testing a problem? When the magnitude of $\\beta_0$ is small with respect to the sample size"
   ]
  },
  {
   "cell_type": "code",
   "execution_count": 15,
   "metadata": {},
   "outputs": [
    {
     "data": {
      "image/png": "[encoded data removed]",
      "text/plain": [
       "<Figure size 1224x432 with 3 Axes>"
      ]
     },
     "metadata": {},
     "output_type": "display_data"
    }
   ],
   "source": [
    "# With a smaller b\n",
    "b_small = b/2\n",
    "\n",
    "# Get pre_test alpha\n",
    "alpha = pre_testing(a, b_small, c, N)\n",
    "\n",
    "# Plot\n",
    "plot_alpha(alpha, a)"
   ]
  },
  {
   "cell_type": "code",
   "execution_count": 16,
   "metadata": {},
   "outputs": [
    {
     "data": {
      "image/png": "[encoded data removed]",
      "text/plain": [
       "<Figure size 1224x432 with 3 Axes>"
      ]
     },
     "metadata": {},
     "output_type": "display_data"
    }
   ],
   "source": [
    "# With a bigger b\n",
    "b_big = b*2\n",
    "\n",
    "# Get pre_test alpha\n",
    "alpha = pre_testing(a, b_big, c, N)\n",
    "\n",
    "# Plot\n",
    "plot_alpha(alpha, a)"
   ]
  },
  {
   "cell_type": "markdown",
   "metadata": {},
   "source": [
    "What does \"*big with respect to the sample size*\" mean?\n",
    "\n",
    "Let's have a look at a process where the coefficient does not depend on the sample size."
   ]
  },
  {
   "cell_type": "code",
   "execution_count": 17,
   "metadata": {},
   "outputs": [
    {
     "name": "stdout",
     "output_type": "stream",
     "text": [
      "Mean with n=100: 0.9442\n",
      "Mean with n=300: 0.9635\n",
      "Mean with n=1000: 0.9925\n",
      "Mean with n=3000: 0.9989\n"
     ]
    }
   ],
   "source": [
    "# Case 1: beta that does not vary with sample size\n",
    "N_sequence = [100,300,1000,3000]\n",
    "alpha = {}\n",
    "\n",
    "# Get sequence\n",
    "for k, n in enumerate(N_sequence):\n",
    "    label = 'N = %.0f' % n\n",
    "    alpha[label] = pre_testing(a, b, c, n)['Pre-test']\n",
    "    print('Mean with n=%.0f: %.4f' % (n, np.mean(alpha[label])))"
   ]
  },
  {
   "cell_type": "code",
   "execution_count": 18,
   "metadata": {
    "scrolled": false
   },
   "outputs": [
    {
     "data": {
      "image/png": "[encoded data removed]",
      "text/plain": [
       "<Figure size 1224x432 with 4 Axes>"
      ]
     },
     "metadata": {},
     "output_type": "display_data"
    }
   ],
   "source": [
    "# Plot\n",
    "plot_alpha(alpha, a)"
   ]
  },
  {
   "cell_type": "markdown",
   "metadata": {},
   "source": [
    "Now suppose the coefficient depends on the sample size."
   ]
  },
  {
   "cell_type": "code",
   "execution_count": 19,
   "metadata": {},
   "outputs": [
    {
     "name": "stdout",
     "output_type": "stream",
     "text": [
      "Mean with n=100: 0.9703\n",
      "Mean with n=300: 0.9838\n",
      "Mean with n=1000: 0.9914\n",
      "Mean with n=3000: 0.9947\n"
     ]
    }
   ],
   "source": [
    "# Case 2: beta that does not vary with sample size\n",
    "beta =  b * 30 / np.sqrt(N_sequence)\n",
    "\n",
    "# Get sequence\n",
    "alpha = {}\n",
    "for k, n in enumerate(N_sequence):\n",
    "    label = 'N = %.0f' % n\n",
    "    alpha[label] = pre_testing(a, beta[k], c, n)['Pre-test']\n",
    "    print('Mean with n=%.0f: %.4f' % (n, np.mean(alpha[label])))"
   ]
  },
  {
   "cell_type": "code",
   "execution_count": 20,
   "metadata": {},
   "outputs": [
    {
     "data": {
      "image/png": "[encoded data removed]",
      "text/plain": [
       "<Figure size 1224x432 with 4 Axes>"
      ]
     },
     "metadata": {},
     "output_type": "display_data"
    }
   ],
   "source": [
    "# Plot\n",
    "plot_alpha(alpha, a)"
   ]
  },
  {
   "cell_type": "markdown",
   "metadata": {},
   "source": [
    "Note that the estimator is consistent. But confidence interval coverage is wrong."
   ]
  },
  {
   "cell_type": "markdown",
   "metadata": {},
   "source": [
    "## Post-double selection"
   ]
  },
  {
   "cell_type": "markdown",
   "metadata": {},
   "source": [
    "Consider again data $D= (y_i, x_i, z_i)_{i=1}^n$, where the true model is:\n",
    "$$\n",
    "\\begin{aligned}\n",
    "& y_i = x_i' \\alpha_0  + z_i' \\beta_0 + \\varepsilon_i \\\\\n",
    "& x_i = z_i' \\gamma_0 + u_i\n",
    "\\end{aligned}\n",
    "$$\n",
    "\n",
    "We would like to guard against pretest bias if possible, in order to handle high dimensional models. A good pathway towards motivating procedures which guard against pretest bias is a discussion of classical partitioned regression.\n",
    "\n",
    "Consider a regression $y_i$ on $x_i$ and $z_i$. $x_i$ is the 1-dimensional variable of interest, $z_i$ is a high-dimensional set of control variables. We have the following procedure:\n",
    "\n",
    "1. **First Stage** selection: lasso $x_i$ on $z_i$. Let the selected variables be collected in the set $S_{FS} \\subseteq z_i$\n",
    "2. **Reduced Form** selection: lasso $y_i$ on $z_i$. Let the selected variables be collected in the set $S_{RF} \\subseteq z_i$\n",
    "3. Regress $y_i$ on $x_i$ and $S_{FS} \\cup S_{RF}$\n",
    "\n",
    "\n",
    "**Theorem**:\n",
    "Let $\\{P^n\\}$ be a sequence of data-generating processes for $D_n = (y_i, x_i, z_i)^n_{i=1} \\in (\\mathbb R \\times \\mathbb R \\times \\mathbb R^p) ^n$ where $p$ depends on $n$. For each $n$, the data are iid with $yi =  x_i'\\alpha_0^{(n)} + z_i' \\beta_0^{(n)} + \\varepsilon_i$ and $x_i = z_i' \\gamma_0^{(n)} + u_i$ where $\\mathbb E[\\varepsilon_i | x_i,z_i] = 0$ and $\\mathbb E[u_i|z_i] = 0$. The sparsity of the vectors  $\\beta_0^{(n)}$, $\\gamma_0^{(n)}$ is controlled by $|| \\beta_0^{(n)} ||_0 \\leq s$ with $s^2 (\\log p)^2/n \\to 0$. Suppose that additional regularity conditions on the model selection procedures and moments of the random variables $y_i$ , $x_i$ , $z_i$ as documented in Belloni et al. (2014). Then the confidence intervals, CI, from the post double selection procedure are uniformly valid. That is, for any confidence level $\\xi \\in (0, 1)$\n",
    "$$\n",
    "\t\t\\Pr(\\alpha_0 \\in CI) \\to 1- \\xi\n",
    "$$\n",
    "\n",
    "In order to have valid confidence intervals you want their bias to be negligibly. Since\n",
    "$$\n",
    "  CI = \\left[ \\hat{\\alpha} \\pm \\frac{1.96 \\cdot \\hat{\\sigma}}{\\sqrt{n}} \\right]\n",
    "$$\n",
    "\n",
    "If the bias is $o \\left( \\frac{1}{\\sqrt{n}} \\right)$ then there is no problem since it is asymptotically negligible w.r.t. the magnitude of the confidence interval. If however the the bias is $O \\left( \\frac{1}{\\sqrt{n}} \\right)$ then it has the same magnitude of the confidence interval and it does not asymptotically vanish. \n",
    "\n",
    "The idea of the proof is to use partitioned regression. An alternative way to think about the argument is: bound the omitted variables bias. Omitted variable bias comes from the product of 2 quantities related to the omitted variable:\n",
    "\n",
    "1. Its partial correlation with the outcome, and\n",
    "2. Its partial correlation with the variable of interest.\n",
    "\n",
    "If both those partial correlations are $O( \\sqrt{\\log p/n})$, then the omitted variables bias is $(s \\times O( \\sqrt{\\log p/n})^2 = o \\left( \\frac{1}{\\sqrt{n}} \\right)$, provided $s^2 (\\log p)^2/n \\to 0$. Relative to the $ \\frac{1}{\\sqrt{n}} $ convergence rate, the omitted variables bias is negligible. \n",
    "\n",
    "In our omitted variable bias case, we want $| \\beta_0 \\gamma_0 | = o \\left( \\frac{1}{\\sqrt{n}} \\right)$.  Post-double selection guarantees that \n",
    "\n",
    "- *Reduced form* selection (pre-testing): any \"missing\" variable has $|\\beta_{0j}| \\leq \\frac{c}{\\sqrt{n}}$\n",
    "- *First stage* selection (additional): any \"missing\" variable has $|\\gamma_{0j}| \\leq \\frac{c}{\\sqrt{n}}$\n",
    "\n",
    "\n",
    "As a consequence, as long as the number of omitted variables is finite, the omitted variable bias is \n",
    "$$\n",
    "\tOVB(\\alpha) = |\\beta_{0j}| \\cdot|\\gamma_{0j}| \\leq \\frac{c}{\\sqrt{n}} \\cdot \\frac{c}{\\sqrt{n}} = \\frac{c^2}{n} = o \\left(\\frac{1}{\\sqrt{n}}\\right)\n",
    "$$"
   ]
  },
  {
   "cell_type": "code",
   "execution_count": 21,
   "metadata": {},
   "outputs": [],
   "source": [
    "# Pre-testing code\n",
    "def post_double_selection(a, b, c, N, simulations=1000):\n",
    "    np.random.seed(1)\n",
    "    \n",
    "    # Init\n",
    "    alpha = {'Long': np.zeros((simulations,1)),\n",
    "            'Short': np.zeros((simulations,1)),\n",
    "            'Pre-test': np.zeros((simulations,1)),\n",
    "            'Post-double': np.zeros((simulations,1))}\n",
    "\n",
    "    # Loop over simulations\n",
    "    for i in range(simulations):\n",
    "        \n",
    "        # Generate data\n",
    "        x, y, z = generate_data(a, b, c, N)\n",
    "        \n",
    "        # Compute coefficients\n",
    "        xz = np.concatenate([x,z], axis=1)\n",
    "        alpha['Long'][i] = (inv(xz.T @ xz) @ xz.T @ y)[0][0]\n",
    "        alpha['Short'][i] = inv(x.T @ x) @ x.T @ y\n",
    "        \n",
    "        # Compute significance of z on y\n",
    "        t1 = t_test(y, xz, 1)\n",
    "        \n",
    "        # Compute significance of z on x\n",
    "        t2 = t_test(x, z, 0)\n",
    "        \n",
    "        # Select specification based on first test\n",
    "        if np.abs(t1)>1.96:\n",
    "            alpha['Pre-test'][i] = alpha['Long'][i]\n",
    "        else:\n",
    "            alpha['Pre-test'][i] = alpha['Short'][i]\n",
    "            \n",
    "        # Select specification based on both tests\n",
    "        if np.abs(t1)>1.96 or np.abs(t2)>1.96:\n",
    "            alpha['Post-double'][i] = alpha['Long'][i]\n",
    "        else:\n",
    "            alpha['Post-double'][i] = alpha['Short'][i]\n",
    "    \n",
    "    return alpha"
   ]
  },
  {
   "cell_type": "code",
   "execution_count": 22,
   "metadata": {},
   "outputs": [
    {
     "name": "stdout",
     "output_type": "stream",
     "text": [
      "Mean alpha Long = 0.9994\n",
      "Mean alpha Short = 0.9095\n",
      "Mean alpha Pre-test = 0.9925\n",
      "Mean alpha Post-double = 0.9994\n"
     ]
    }
   ],
   "source": [
    "# Get pre_test alpha\n",
    "alpha = post_double_selection(a, b, c, N)\n",
    "\n",
    "for key, value in alpha.items():\n",
    "    print('Mean alpha %s = %.4f' % (key, np.mean(value)))"
   ]
  },
  {
   "cell_type": "code",
   "execution_count": 23,
   "metadata": {},
   "outputs": [
    {
     "data": {
      "image/png": "[encoded data removed]",
      "text/plain": [
       "<Figure size 1224x432 with 4 Axes>"
      ]
     },
     "metadata": {},
     "output_type": "display_data"
    }
   ],
   "source": [
    "# Plot\n",
    "plot_alpha(alpha, a)"
   ]
  },
  {
   "cell_type": "markdown",
   "metadata": {},
   "source": [
    "As we can see, post-double selection has solved the pre-testing problem. Does it work uniformly across sample sizes?"
   ]
  },
  {
   "cell_type": "code",
   "execution_count": 24,
   "metadata": {},
   "outputs": [
    {
     "name": "stdout",
     "output_type": "stream",
     "text": [
      "Mean with n=100: 0.9964\n",
      "Mean with n=300: 0.9985\n",
      "Mean with n=1000: 0.9994\n",
      "Mean with n=3000: 0.9990\n"
     ]
    }
   ],
   "source": [
    "# Case 1: beta that does not vary with sample size\n",
    "N_sequence = [100,300,1000,3000]\n",
    "alpha = {}\n",
    "\n",
    "# Get sequence\n",
    "for k, n in enumerate(N_sequence):\n",
    "    label = 'N = %.0f' % n\n",
    "    alpha[label] = post_double_selection(a, b, c, n)['Post-double']\n",
    "    print('Mean with n=%.0f: %.4f' % (n, np.mean(alpha[label])))"
   ]
  },
  {
   "cell_type": "code",
   "execution_count": 25,
   "metadata": {
    "scrolled": false
   },
   "outputs": [
    {
     "data": {
      "image/png": "[encoded data removed]",
      "text/plain": [
       "<Figure size 1224x432 with 4 Axes>"
      ]
     },
     "metadata": {},
     "output_type": "display_data"
    }
   ],
   "source": [
    "# Plot\n",
    "plot_alpha(alpha, a)"
   ]
  },
  {
   "cell_type": "markdown",
   "metadata": {},
   "source": [
    "Yes! It works! What if $\\beta_0$ depends on the sample size?"
   ]
  },
  {
   "cell_type": "code",
   "execution_count": 26,
   "metadata": {},
   "outputs": [
    {
     "name": "stdout",
     "output_type": "stream",
     "text": [
      "Mean with n=100: 0.9964\n",
      "Mean with n=300: 0.9985\n",
      "Mean with n=1000: 0.9994\n",
      "Mean with n=3000: 0.9990\n"
     ]
    }
   ],
   "source": [
    "# Case 2: beta that does not vary with sample size\n",
    "beta =  b * 30 / np.sqrt(N_sequence)\n",
    "\n",
    "# Get sequence\n",
    "alpha = {}\n",
    "for k, n in enumerate(N_sequence):\n",
    "    label = 'N = %.0f' % n\n",
    "    alpha[label] = post_double_selection(a, beta[k], c, n)['Post-double']\n",
    "    print('Mean with n=%.0f: %.4f' % (n, np.mean(alpha[label])))"
   ]
  },
  {
   "cell_type": "code",
   "execution_count": 27,
   "metadata": {},
   "outputs": [
    {
     "data": {
      "image/png": "[encoded data removed]",
      "text/plain": [
       "<Figure size 1224x432 with 4 Axes>"
      ]
     },
     "metadata": {},
     "output_type": "display_data"
    }
   ],
   "source": [
    "# Plot\n",
    "plot_alpha(alpha, a)"
   ]
  },
  {
   "cell_type": "markdown",
   "metadata": {},
   "source": [
    "Amazing!"
   ]
  },
  {
   "cell_type": "markdown",
   "metadata": {},
   "source": [
    "## Double/debiased machine learning"
   ]
  },
  {
   "cell_type": "markdown",
   "metadata": {},
   "source": [
    "This section is taken from [Chernozhukov, V., Chetverikov, D., Demirer, M., Duflo, E., Hansen, C., Newey, W., & Robins, J. (2018). \"*Double/debiased machine learning for treatment and structural parameters*\"](https://onlinelibrary.wiley.com/doi/abs/10.1111/ectj.12097)."
   ]
  },
  {
   "cell_type": "markdown",
   "metadata": {},
   "source": [
    "Consider the following partially linear model\n",
    "\n",
    "$$\n",
    "y = \\beta_0 D + g_0(X) + u \\\\\n",
    "D = m_0(X) + v\n",
    "$$\n",
    "\n",
    "where $y$ is the outcome variable, $D$ is the treatment to interest and $X$ is a potentially high-dimensional set of controls."
   ]
  },
  {
   "cell_type": "markdown",
   "metadata": {},
   "source": [
    "#### Naive approach\n",
    "\n",
    "A naive approach to estimation of $\\beta_0$ using ML methods would be, for example, to construct a sophisticated ML estimator $\\beta_0 D + g_0(X)$ for learning the regression function $\\beta_0 D$ + $g_0(X)$.\n",
    "\n",
    "1. Split the sample in two: main sample and auxiliary sample\n",
    "2. Use the auxiliary sample to estimate $\\hat g_0(X)$\n",
    "3. Use the main sample to compute the orthogonalized component of $Y$ on $X$: $\\hat u = \\left(Y_{i}-\\hat{g}_{0}\\left(X_{i}\\right)\\right)$ \n",
    "3. Use the main sample to estimate the residualized OLS estimator\n",
    "\n",
    "$$\n",
    "\\hat{\\beta}_{0}=\\left(\\frac{1}{n} \\sum_{i \\in I} D_{i}^{2}\\right)^{-1} \\frac{1}{n} \\sum_{i \\in I} D_{i} \\hat u_i\n",
    "$$\n",
    "\n",
    "This estimator is going to have two problems:\n",
    "\n",
    "1. Slow rate of convergence, i.e. slower than $n^{1/2}$\n",
    "2. It will be biased because we are employing highdimensional regularized estimators (e.g. we are doing variable selection)"
   ]
  },
  {
   "cell_type": "markdown",
   "metadata": {},
   "source": [
    "#### Orthogonalization\n",
    "\n",
    "Now consider a second construction that employs an orthogonalized formulation obtained by directly partialling out the effect of $X$ from $D$ to obtain the orthogonalized regressor $v = D − m_0(X)$.\n",
    "\n",
    "1. Split the sample in two: main sample and auxiliary sample\n",
    "2. Use the auxiliary sample to estimate $\\hat g_0(X)$ from\n",
    "    \n",
    "    $$\n",
    "    y = \\beta_0 D + g_0(X) + u \\\\\n",
    "    $$\n",
    "\n",
    "\n",
    "3. Use the auxiliary sample to estimate $\\hat m_0(X)$ from\n",
    "\n",
    "    $$\n",
    "    D = m_0(X) + v\n",
    "    $$\n",
    "\n",
    "\n",
    "4. Use the main sample to compute the orthogonalized component of $D$ on $X$ as\n",
    "\n",
    "    $$\n",
    "    \\hat v = D - \\hat m_0(X)\n",
    "    $$\n",
    "    \n",
    "    \n",
    "5. Use the main sample to estimate the double-residualized OLS estimator as\n",
    "\n",
    "    $$\n",
    "    \\hat{\\beta}_{0}=\\left(\\frac{1}{n} \\sum_{i \\in I} \\hat v_i D_{i} \\right)^{-1} \\frac{1}{n} \\sum_{i \\in I} \\hat v_i \\left( Y - \\hat g_0(X) \\right)\n",
    "    $$\n",
    "\n",
    "\n",
    "The estimator is unbiased but still has a lower rate of convergence because of sample splitting. The problem is solved by inverting the split sample, re-estimating the coefficient and averaging the two estimates. Note that this procedure is valid since the two estimates are independent by the sample splitting procedure."
   ]
  },
  {
   "cell_type": "markdown",
   "metadata": {},
   "source": [
    "### Application to AJR02"
   ]
  },
  {
   "cell_type": "markdown",
   "metadata": {},
   "source": [
    "In this section we are going to replicate 6.3 of the \"*Double/debiased machine learning*\" paper based on [Acemoglu, Johnson, Robinson (2002), \"*The Colonial Origins of Comparative Development*\"](https://economics.mit.edu/files/4123).\n",
    "\n",
    "We first load the dataset"
   ]
  },
  {
   "cell_type": "code",
   "execution_count": 120,
   "metadata": {},
   "outputs": [],
   "source": [
    "# Load Acemoglu Johnson Robinson Dataset\n",
    "df = pd.read_csv('data/AJR02.csv',index_col=0)"
   ]
  },
  {
   "cell_type": "code",
   "execution_count": 121,
   "metadata": {},
   "outputs": [
    {
     "data": {
      "text/html": [
       "<div>\n",
       "<style scoped>\n",
       "    .dataframe tbody tr th:only-of-type {\n",
       "        vertical-align: middle;\n",
       "    }\n",
       "\n",
       "    .dataframe tbody tr th {\n",
       "        vertical-align: top;\n",
       "    }\n",
       "\n",
       "    .dataframe thead th {\n",
       "        text-align: right;\n",
       "    }\n",
       "</style>\n",
       "<table border=\"1\" class=\"dataframe\">\n",
       "  <thead>\n",
       "    <tr style=\"text-align: right;\">\n",
       "      <th></th>\n",
       "      <th>GDP</th>\n",
       "      <th>Exprop</th>\n",
       "      <th>Mort</th>\n",
       "      <th>Latitude</th>\n",
       "      <th>Neo</th>\n",
       "      <th>Africa</th>\n",
       "      <th>Asia</th>\n",
       "      <th>Namer</th>\n",
       "      <th>Samer</th>\n",
       "      <th>logMort</th>\n",
       "      <th>Latitude2</th>\n",
       "    </tr>\n",
       "  </thead>\n",
       "  <tbody>\n",
       "    <tr>\n",
       "      <th>1</th>\n",
       "      <td>8.39</td>\n",
       "      <td>6.50</td>\n",
       "      <td>78.20</td>\n",
       "      <td>0.3111</td>\n",
       "      <td>0</td>\n",
       "      <td>1</td>\n",
       "      <td>0</td>\n",
       "      <td>0</td>\n",
       "      <td>0</td>\n",
       "      <td>4.359270</td>\n",
       "      <td>0.096783</td>\n",
       "    </tr>\n",
       "    <tr>\n",
       "      <th>2</th>\n",
       "      <td>7.77</td>\n",
       "      <td>5.36</td>\n",
       "      <td>280.00</td>\n",
       "      <td>0.1367</td>\n",
       "      <td>0</td>\n",
       "      <td>1</td>\n",
       "      <td>0</td>\n",
       "      <td>0</td>\n",
       "      <td>0</td>\n",
       "      <td>5.634790</td>\n",
       "      <td>0.018687</td>\n",
       "    </tr>\n",
       "    <tr>\n",
       "      <th>3</th>\n",
       "      <td>9.13</td>\n",
       "      <td>6.39</td>\n",
       "      <td>68.90</td>\n",
       "      <td>0.3778</td>\n",
       "      <td>0</td>\n",
       "      <td>0</td>\n",
       "      <td>0</td>\n",
       "      <td>0</td>\n",
       "      <td>1</td>\n",
       "      <td>4.232656</td>\n",
       "      <td>0.142733</td>\n",
       "    </tr>\n",
       "    <tr>\n",
       "      <th>4</th>\n",
       "      <td>9.90</td>\n",
       "      <td>9.32</td>\n",
       "      <td>8.55</td>\n",
       "      <td>0.3000</td>\n",
       "      <td>1</td>\n",
       "      <td>0</td>\n",
       "      <td>0</td>\n",
       "      <td>0</td>\n",
       "      <td>0</td>\n",
       "      <td>2.145931</td>\n",
       "      <td>0.090000</td>\n",
       "    </tr>\n",
       "    <tr>\n",
       "      <th>5</th>\n",
       "      <td>9.29</td>\n",
       "      <td>7.50</td>\n",
       "      <td>85.00</td>\n",
       "      <td>0.2683</td>\n",
       "      <td>0</td>\n",
       "      <td>0</td>\n",
       "      <td>0</td>\n",
       "      <td>1</td>\n",
       "      <td>0</td>\n",
       "      <td>4.442651</td>\n",
       "      <td>0.071985</td>\n",
       "    </tr>\n",
       "  </tbody>\n",
       "</table>\n",
       "</div>"
      ],
      "text/plain": [
       "    GDP  Exprop    Mort  Latitude  Neo  Africa  Asia  Namer  Samer   logMort  \\\n",
       "1  8.39    6.50   78.20    0.3111    0       1     0      0      0  4.359270   \n",
       "2  7.77    5.36  280.00    0.1367    0       1     0      0      0  5.634790   \n",
       "3  9.13    6.39   68.90    0.3778    0       0     0      0      1  4.232656   \n",
       "4  9.90    9.32    8.55    0.3000    1       0     0      0      0  2.145931   \n",
       "5  9.29    7.50   85.00    0.2683    0       0     0      1      0  4.442651   \n",
       "\n",
       "   Latitude2  \n",
       "1   0.096783  \n",
       "2   0.018687  \n",
       "3   0.142733  \n",
       "4   0.090000  \n",
       "5   0.071985  "
      ]
     },
     "execution_count": 121,
     "metadata": {},
     "output_type": "execute_result"
    }
   ],
   "source": [
    "df.head()"
   ]
  },
  {
   "cell_type": "code",
   "execution_count": 122,
   "metadata": {},
   "outputs": [
    {
     "name": "stdout",
     "output_type": "stream",
     "text": [
      "<class 'pandas.core.frame.DataFrame'>\n",
      "Int64Index: 64 entries, 1 to 64\n",
      "Data columns (total 11 columns):\n",
      " #   Column     Non-Null Count  Dtype  \n",
      "---  ------     --------------  -----  \n",
      " 0   GDP        64 non-null     float64\n",
      " 1   Exprop     64 non-null     float64\n",
      " 2   Mort       64 non-null     float64\n",
      " 3   Latitude   64 non-null     float64\n",
      " 4   Neo        64 non-null     int64  \n",
      " 5   Africa     64 non-null     int64  \n",
      " 6   Asia       64 non-null     int64  \n",
      " 7   Namer      64 non-null     int64  \n",
      " 8   Samer      64 non-null     int64  \n",
      " 9   logMort    64 non-null     float64\n",
      " 10  Latitude2  64 non-null     float64\n",
      "dtypes: float64(6), int64(5)\n",
      "memory usage: 6.0 KB\n"
     ]
    }
   ],
   "source": [
    "df.info()"
   ]
  },
  {
   "cell_type": "markdown",
   "metadata": {},
   "source": [
    "In their paper, AJR note that their IV strategy will be invalidated if other factors are also highly persistent and related to the development of institutions within a country and to the country’s GDP. A leading candidate for such a factor, as they discuss, is geography. AJR address this by assuming that the confounding effect of geography is adequately captured by a linear term in distance from the equator and a set of continent dummy variables. \n",
    "\n",
    "They inclue their results in table 2."
   ]
  },
  {
   "cell_type": "code",
   "execution_count": 126,
   "metadata": {},
   "outputs": [],
   "source": [
    "# Add constant term to dataset\n",
    "df['const'] = 1\n",
    "\n",
    "# Create lists of variables to be used in each regression\n",
    "X1 = df[['const', 'Exprop']]\n",
    "X2 = df[['const', 'Exprop', 'Latitude', 'Latitude2']]\n",
    "X3 = df[['const', 'Exprop', 'Latitude', 'Latitude2', 'Asia', 'Africa', 'Namer', 'Samer']]\n",
    "y = df['GDP']\n",
    "\n",
    "# Estimate an OLS regression for each set of variables\n",
    "reg1 = sm.OLS(y, X1, missing='drop').fit()\n",
    "reg2 = sm.OLS(y, X2, missing='drop').fit()\n",
    "reg3 = sm.OLS(y, X3, missing='drop').fit()"
   ]
  },
  {
   "cell_type": "code",
   "execution_count": 129,
   "metadata": {},
   "outputs": [
    {
     "data": {
      "text/html": [
       "<table class=\"simpletable\">\n",
       "<tr>\n",
       "          <td></td>         <th>Model 1</th> <th>Model 2</th> <th>Model 3</th>\n",
       "</tr>\n",
       "<tr>\n",
       "  <th>const</th>            <td>4.66***</td> <td>4.55***</td> <td>5.95***</td>\n",
       "</tr>\n",
       "<tr>\n",
       "  <th></th>                 <td>(0.41)</td>  <td>(0.45)</td>  <td>(0.68)</td> \n",
       "</tr>\n",
       "<tr>\n",
       "  <th>Exprop</th>           <td>0.52***</td> <td>0.49***</td> <td>0.40***</td>\n",
       "</tr>\n",
       "<tr>\n",
       "  <th></th>                 <td>(0.06)</td>  <td>(0.07)</td>  <td>(0.06)</td> \n",
       "</tr>\n",
       "<tr>\n",
       "  <th>Latitude</th>            <td></td>      <td>2.16</td>    <td>0.42</td>  \n",
       "</tr>\n",
       "<tr>\n",
       "  <th></th>                    <td></td>     <td>(1.68)</td>  <td>(1.47)</td> \n",
       "</tr>\n",
       "<tr>\n",
       "  <th>Latitude2</th>           <td></td>      <td>-2.12</td>   <td>0.44</td>  \n",
       "</tr>\n",
       "<tr>\n",
       "  <th></th>                    <td></td>     <td>(2.86)</td>  <td>(2.48)</td> \n",
       "</tr>\n",
       "<tr>\n",
       "  <th>Namer</th>               <td></td>        <td></td>      <td>-0.17</td> \n",
       "</tr>\n",
       "<tr>\n",
       "  <th></th>                    <td></td>        <td></td>     <td>(0.40)</td> \n",
       "</tr>\n",
       "<tr>\n",
       "  <th>Africa</th>              <td></td>        <td></td>     <td>-1.06**</td>\n",
       "</tr>\n",
       "<tr>\n",
       "  <th></th>                    <td></td>        <td></td>     <td>(0.41)</td> \n",
       "</tr>\n",
       "<tr>\n",
       "  <th>Samer</th>               <td></td>        <td></td>      <td>-0.12</td> \n",
       "</tr>\n",
       "<tr>\n",
       "  <th></th>                    <td></td>        <td></td>     <td>(0.42)</td> \n",
       "</tr>\n",
       "<tr>\n",
       "  <th>Asia</th>                <td></td>        <td></td>     <td>-0.74*</td> \n",
       "</tr>\n",
       "<tr>\n",
       "  <th></th>                    <td></td>        <td></td>     <td>(0.42)</td> \n",
       "</tr>\n",
       "<tr>\n",
       "  <th>R-squared</th>         <td>0.54</td>    <td>0.56</td>    <td>0.71</td>  \n",
       "</tr>\n",
       "<tr>\n",
       "  <th>R-squared Adj.</th>    <td>0.53</td>    <td>0.54</td>    <td>0.67</td>  \n",
       "</tr>\n",
       "<tr>\n",
       "  <th>No. observations</th>   <td>64</td>      <td>64</td>      <td>64</td>   \n",
       "</tr>\n",
       "</table>"
      ],
      "text/plain": [
       "<class 'statsmodels.iolib.summary2.Summary'>\n",
       "\"\"\"\n",
       "\n",
       "========================================\n",
       "                 Model 1 Model 2 Model 3\n",
       "----------------------------------------\n",
       "const            4.66*** 4.55*** 5.95***\n",
       "                 (0.41)  (0.45)  (0.68) \n",
       "Exprop           0.52*** 0.49*** 0.40***\n",
       "                 (0.06)  (0.07)  (0.06) \n",
       "Latitude                 2.16    0.42   \n",
       "                         (1.68)  (1.47) \n",
       "Latitude2                -2.12   0.44   \n",
       "                         (2.86)  (2.48) \n",
       "Namer                            -0.17  \n",
       "                                 (0.40) \n",
       "Africa                           -1.06**\n",
       "                                 (0.41) \n",
       "Samer                            -0.12  \n",
       "                                 (0.42) \n",
       "Asia                             -0.74* \n",
       "                                 (0.42) \n",
       "R-squared        0.54    0.56    0.71   \n",
       "R-squared Adj.   0.53    0.54    0.67   \n",
       "No. observations 64      64      64     \n",
       "========================================\n",
       "Standard errors in parentheses.\n",
       "* p<.1, ** p<.05, ***p<.01\n",
       "\"\"\""
      ]
     },
     "execution_count": 129,
     "metadata": {},
     "output_type": "execute_result"
    }
   ],
   "source": [
    "info_dict={'No. observations' : lambda x: f\"{int(x.nobs):d}\"}\n",
    "\n",
    "results_table = summary_col(results=[reg1,reg2,reg3],\n",
    "                            float_format='%0.2f',\n",
    "                            stars = True,\n",
    "                            model_names=['Model 1','Model 2','Model 3'],\n",
    "                            info_dict=info_dict,\n",
    "                            regressor_order=['const','Exprop','Latitude','Latitude2'])\n",
    "\n",
    "results_table"
   ]
  },
  {
   "cell_type": "markdown",
   "metadata": {},
   "source": [
    "Using DML allows us to relax this assumption and to replace it by a weaker assumption that geography can be sufficiently controlled by an unknown function of distance from the equator and continent dummies, which can be learned by ML methods.\n",
    "\n",
    "In particular, our framework is\n",
    "\n",
    "$$\n",
    "{GDP} = \\beta_0 \\times {Exprop} + g_0({geography}) + u \\\\\n",
    "{Exprop} = m_0({geography}) + u\n",
    "$$\n",
    "\n",
    "So that the double/debiased machine learning procedure is\n",
    "\n",
    "1. Split the sample in two: main sample and auxiliary sample\n",
    "2. Use the auxiliary sample to estimate $\\hat g_0({geography})$ from\n",
    "\n",
    "    $$\n",
    "    {GDP} = \\beta_0 \\times {Exprop} + g_0({geography}) + u\n",
    "    $$\n",
    "\n",
    "\n",
    "3. Use the auxiliary sample to estimate $\\hat m_0({geography})$ from\n",
    "\n",
    "    $$\n",
    "    {Exprop} = m_0({geography}) + v\n",
    "    $$\n",
    "\n",
    "\n",
    "4. Use the main sample to compute the orthogonalized component of ${Exprop}$ on ${geography}$ as\n",
    "\n",
    "    $$\n",
    "    \\hat v = {Exprop} - \\hat m_0({geography})\n",
    "    $$\n",
    "\n",
    "\n",
    "5. Use the main sample to estimate the double-residualized OLS estimator as\n",
    "\n",
    "    $$\n",
    "    \\hat{\\beta}_{0}=\\left(\\frac{1}{n} \\sum_{i \\in I} \\hat v_i \\times {Exprop}_{i} \\right)^{-1} \\frac{1}{n} \\sum_{i \\in I} \\hat v_i \\times \\left( {GDP} - \\hat g_0({geography}) \\right)\n",
    "    $$\n",
    "\n",
    "Since we employ an **intrumental variable** strategy, we replace $m_0({geography})$ with $m_0({geography},{logMort})$ in the first stage."
   ]
  },
  {
   "cell_type": "code",
   "execution_count": 264,
   "metadata": {},
   "outputs": [],
   "source": [
    "# Generate variables\n",
    "D = df['Exprop'].values.reshape(-1,1)\n",
    "X = df[['const', 'Latitude', 'Latitude2', 'Asia', 'Africa', 'Namer', 'Samer']].values\n",
    "y = df['GDP'].values.reshape(-1,1)\n",
    "Z = df[['const', 'Latitude', 'Latitude2', 'Asia', 'Africa', 'Namer', 'Samer','logMort']].values"
   ]
  },
  {
   "cell_type": "markdown",
   "metadata": {},
   "source": [
    "Now we write down the whole procedure."
   ]
  },
  {
   "cell_type": "code",
   "execution_count": 265,
   "metadata": {},
   "outputs": [],
   "source": [
    "def estimate_beta(algorithm, alg_name, D, X, y, Z, sample):\n",
    "\n",
    "    # Split sample\n",
    "    D_main, D_aux = (D[sample==1], D[sample==0])\n",
    "    X_main, X_aux = (X[sample==1], X[sample==0])\n",
    "    y_main, y_aux = (y[sample==1], y[sample==0])\n",
    "    Z_main, Z_aux = (Z[sample==1], Z[sample==0])\n",
    "\n",
    "    # Residualize y on D\n",
    "    b_hat = inv(D_aux.T @ D_aux) @ D_aux.T @ y_aux\n",
    "    y_resid_aux = y_aux - D_aux @ b_hat\n",
    "    \n",
    "    # Estimate g0\n",
    "    alg_fitted = algorithm.fit(X=X_aux, y=y_resid_aux.ravel())\n",
    "    g0 = alg_fitted.predict(X_main).reshape(-1,1)\n",
    "\n",
    "    # Compute v_hat\n",
    "    u_hat = y_main - g0\n",
    "\n",
    "    # Estimate m0\n",
    "    alg_fitted = algorithm.fit(X=Z_aux, y=D_aux.ravel())\n",
    "    m0 = algorithm.predict(Z_main).reshape(-1,1)\n",
    "    \n",
    "    # Compute u_hat\n",
    "    v_hat = D_main - m0\n",
    "\n",
    "    # Estimate beta\n",
    "    beta = inv(v_hat.T @ D_main) @ v_hat.T @ u_hat\n",
    "        \n",
    "    return beta "
   ]
  },
  {
   "cell_type": "code",
   "execution_count": 290,
   "metadata": {},
   "outputs": [],
   "source": [
    "def ddml(algorithm, alg_name, D, X, y, Z, p=0.5, verbose=False):\n",
    "    \n",
    "    # Expand X if Lasso or Ridge\n",
    "    if alg_name in ['Lasso   ','Ridge   ']:\n",
    "        X = PolynomialFeatures(degree=2).fit_transform(X)\n",
    "\n",
    "    # Generate split (fixed proportions)\n",
    "    split = np.array([i in train_test_split(range(len(D)), test_size=p)[0] for i in range(len(D))])\n",
    "    \n",
    "    # Compute beta\n",
    "    beta = [estimate_beta(algorithm, alg_name, D, X, y, Z, split==k) for k in range(2)]\n",
    "    beta = np.mean(beta)\n",
    "     \n",
    "    # Print and return\n",
    "    if verbose:\n",
    "        print('%s : %.4f' % (alg_name, beta))\n",
    "    return beta"
   ]
  },
  {
   "cell_type": "markdown",
   "metadata": {},
   "source": [
    "We now repeat the same process with different algorithms. In particular, we consider:\n",
    "\n",
    "1. Lasso Regression\n",
    "2. Ridge Regression\n",
    "3. Regression Trees\n",
    "4. Random Forest\n",
    "5. Boosted Forests"
   ]
  },
  {
   "cell_type": "code",
   "execution_count": 291,
   "metadata": {},
   "outputs": [],
   "source": [
    "# List all algorithms\n",
    "algorithms = {'Ridge   ': Ridge(alpha=.1),\n",
    "              'Lasso   ': Lasso(alpha=.01),\n",
    "              'Tree    ': DecisionTreeRegressor(),\n",
    "              'Forest  ': RandomForestRegressor(n_estimators=30),\n",
    "              'Boosting': GradientBoostingRegressor(n_estimators=30)}"
   ]
  },
  {
   "cell_type": "code",
   "execution_count": 292,
   "metadata": {},
   "outputs": [
    {
     "name": "stdout",
     "output_type": "stream",
     "text": [
      "Ridge    : 0.4944\n",
      "Lasso    : -0.1532\n",
      "Tree     : 1.0708\n",
      "Forest   : 2.1273\n",
      "Boosting : 1.4195\n"
     ]
    }
   ],
   "source": [
    "# Loop over algorithms\n",
    "for alg_name, algorithm in algorithms.items():\n",
    "    ddml(algorithm, alg_name, D, X_poly, y, Z, verbose=True)"
   ]
  },
  {
   "cell_type": "code",
   "execution_count": 293,
   "metadata": {},
   "outputs": [],
   "source": [
    "# Repeat K times\n",
    "def estimate_beta_median(algorithms, D, X, y, Z, K):\n",
    "    \n",
    "    # Loop over algorithms\n",
    "    for alg_name, algorithm in algorithms.items():\n",
    "        betas = []\n",
    "            \n",
    "        # Iterate n times\n",
    "        for k in range(K):\n",
    "            beta = ddml(algorithm, alg_name, D, X, y, Z)\n",
    "            betas = np.append(betas, beta)\n",
    "    \n",
    "        print('%s : %.4f' % (alg_name, np.median(betas)))"
   ]
  },
  {
   "cell_type": "code",
   "execution_count": 294,
   "metadata": {},
   "outputs": [
    {
     "name": "stdout",
     "output_type": "stream",
     "text": [
      "Ridge    : 0.6670\n",
      "Lasso    : 1.2511\n",
      "Tree     : 0.9605\n",
      "Forest   : 0.5327\n",
      "Boosting : 1.0338\n"
     ]
    }
   ],
   "source": [
    "np.random.seed(123)\n",
    "\n",
    "# Repeat 100 times and take median\n",
    "estimate_beta_median(algorithms, D, X, y, Z, 100)"
   ]
  },
  {
   "cell_type": "markdown",
   "metadata": {},
   "source": [
    "The results differ slightly from the ones in the paper."
   ]
  }
 ],
 "metadata": {
  "kernelspec": {
   "display_name": "Python 3",
   "language": "python",
   "name": "python3"
  },
  "language_info": {
   "codemirror_mode": {
    "name": "ipython",
    "version": 3
   },
   "file_extension": ".py",
   "mimetype": "text/x-python",
   "name": "python",
   "nbconvert_exporter": "python",
   "pygments_lexer": "ipython3",
   "version": "3.8.5"
  }
 },
 "nbformat": 4,
 "nbformat_minor": 4
}
