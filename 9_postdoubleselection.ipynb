{
 "cells": [
  {
   "cell_type": "markdown",
   "metadata": {},
   "source": [
    "# Session 8 - Post-double Selection"
   ]
  },
  {
   "cell_type": "markdown",
   "metadata": {},
   "source": [
    "## Contents\n",
    "\n",
    "- [Frisch-Waugh Theorem](#Frisch-Waugh-Theorem)\n",
    "- [Post-double selection](#Post-double-selection)\n",
    "- [Double/debiased machine learning](#Double/debiased-machine-learning)\n"
   ]
  },
  {
   "cell_type": "code",
   "execution_count": 1,
   "metadata": {},
   "outputs": [],
   "source": [
    "# Import everything\n",
    "import pandas as pd\n",
    "import numpy as np\n",
    "import seaborn as sns\n",
    "import statsmodels.api as sm\n",
    "\n",
    "from numpy.linalg import inv\n",
    "from statsmodels.iolib.summary2 import summary_col\n",
    "from sklearn.model_selection import train_test_split\n",
    "from sklearn.linear_model import Lasso\n",
    "from sklearn.tree import DecisionTreeRegressor\n",
    "from sklearn.ensemble import RandomForestRegressor, GradientBoostingRegressor"
   ]
  },
  {
   "cell_type": "code",
   "execution_count": 2,
   "metadata": {},
   "outputs": [],
   "source": [
    "# Import matplotlib for graphs\n",
    "import matplotlib.pyplot as plt\n",
    "from mpl_toolkits.mplot3d import axes3d\n",
    "\n",
    "# Set global parameters\n",
    "%matplotlib inline\n",
    "plt.style.use('seaborn-white')\n",
    "plt.rcParams['lines.linewidth'] = 3\n",
    "plt.rcParams['figure.figsize'] = (10,6)\n",
    "plt.rcParams['figure.titlesize'] = 20\n",
    "plt.rcParams['axes.titlesize'] = 18\n",
    "plt.rcParams['axes.labelsize'] = 14\n",
    "plt.rcParams['legend.fontsize'] = 14"
   ]
  },
  {
   "cell_type": "markdown",
   "metadata": {},
   "source": [
    "## Frisch-Waugh theorem"
   ]
  },
  {
   "cell_type": "markdown",
   "metadata": {},
   "source": [
    "Consider the data $D = \\{ x_i, y_i, z_i \\}_{i=1}^\\infty$ with DGP:\n",
    "\n",
    "$$\n",
    "y_i = \\alpha x_i + \\beta z_i + \\varepsilon_i\n",
    "$$\n",
    "\n",
    ". The following estimators of $\\alpha$ are numerically equivalent (if $[x, z]$ has full rank):\n",
    "\n",
    "- OLS: $\\hat{\\alpha}$ from regressing $y$ on $x, z$\n",
    "- Partialling out: $\\tilde{\\alpha}$ from regressing $y$ on $\\tilde{x}$\n",
    "- \"Double\" partialling out: $\\bar{\\alpha}$ from regressing $\\tilde{y}$ on $\\tilde{x}$\n",
    "\n",
    "where the operation of passing to $y, x$ to $\\tilde{y}, \\tilde{x}$ is called *projection  out $z$*, e.g. $\\tilde{x}$ are the residuals from regressing $x$ on $z$.\n",
    "\n",
    "$$\n",
    "\\tilde{x} = (I - z (z' z)^{-1} z' ) x = (I-P) x = M x\n",
    "$$\n",
    "\n",
    "I.e we have done the following:\n",
    " 1. regress $x$ on $z$\n",
    " 2. compute $\\hat x$\n",
    " 3. compute the residuals $\\tilde x = x - \\hat x$\n",
    " \n",
    "We now explore the theorem through simulation."
   ]
  },
  {
   "cell_type": "code",
   "execution_count": 3,
   "metadata": {},
   "outputs": [],
   "source": [
    "np.random.seed(1)\n",
    "\n",
    "# Init\n",
    "N = 1000\n",
    "a = 1\n",
    "b = -.3\n",
    "\n",
    "# Generate data\n",
    "x = np.random.uniform(0,1,N).reshape(-1,1)\n",
    "z = np.random.uniform(0,1,N).reshape(-1,1)\n",
    "e = np.random.normal(0,1,N).reshape(-1,1)\n",
    "y = a*x + b*z + e"
   ]
  },
  {
   "cell_type": "code",
   "execution_count": 4,
   "metadata": {},
   "outputs": [
    {
     "name": "stdout",
     "output_type": "stream",
     "text": [
      "alpha OLS: 1.0928 (true=1)\n"
     ]
    }
   ],
   "source": [
    "# Estimate alpha by OLS\n",
    "xz = np.concatenate([x,z], axis=1)\n",
    "ols_coeff = inv(xz.T @ xz) @ xz.T @ y\n",
    "alpha_ols = ols_coeff[0][0]\n",
    "\n",
    "print('alpha OLS: %.4f (true=%1.0f)' % (alpha_ols, a))"
   ]
  },
  {
   "cell_type": "code",
   "execution_count": 5,
   "metadata": {},
   "outputs": [
    {
     "name": "stdout",
     "output_type": "stream",
     "text": [
      "alpha partialling out: 1.0928 (true=1)\n"
     ]
    }
   ],
   "source": [
    "# Partialling out\n",
    "x_tilde = (np.eye(N) - z @ inv(z.T @ z) @ z.T ) @ x\n",
    "alpha_po = inv(x_tilde.T @ x_tilde) @ x_tilde.T @ y\n",
    "\n",
    "print('alpha partialling out: %.4f (true=%1.0f)' % (alpha_po, a))"
   ]
  },
  {
   "cell_type": "code",
   "execution_count": 6,
   "metadata": {},
   "outputs": [
    {
     "name": "stdout",
     "output_type": "stream",
     "text": [
      "alpha double partialling out: 1.0928 (true=1)\n"
     ]
    }
   ],
   "source": [
    "# \"Double\" partialling out\n",
    "y_tilde = (np.eye(N) - z @ inv(z.T @ z) @ z.T ) @ y\n",
    "alpha_po2 = inv(x_tilde.T @ x_tilde) @ x_tilde.T @ y_tilde\n",
    "\n",
    "print('alpha double partialling out: %.4f (true=%1.0f)' % (alpha_po2, a))"
   ]
  },
  {
   "cell_type": "markdown",
   "metadata": {},
   "source": [
    "## Omitted Variable Bias"
   ]
  },
  {
   "cell_type": "markdown",
   "metadata": {},
   "source": [
    "Consider two separate statistical models. Assume the following **long regression** of interest:\n",
    "\n",
    "$$\n",
    "y_i = x_i' \\alpha_0+ z_i' \\beta_0 + \\varepsilon_i\n",
    "$$\n",
    "\n",
    "Define the corresponding **short regression** as\n",
    "\n",
    "$$\n",
    "  y_i = x_i' \\alpha_0 + v_i \\quad \\text{ with } \\quad v_i = z_i' \\beta_0 + \\varepsilon_i\n",
    "$$\n",
    "\n",
    "**OVB Theorem**:\n",
    "Suppose that the DGP for the long regression corresponds to $\\alpha_0$, $\\beta_0$. Suppose further that $\\mathbb E[x_i] = 0$, $\\mathbb E[z_i] = 0$, $\\mathbb E[\\varepsilon_i |x_i,z_i] = 0$. Then, unless $\\beta_0 = 0$ or $z_i$ is orthogonal to $x_i$, the (sole) stochastic regressor $x_i$ is correlated with the error term in the short regression which implies that the OLS estimator of the short regression is inconsistent for $\\alpha_0$ due to the omitted variable bias. In particular, one can show that the plim of the OLS estimator of $\\hat{\\alpha}_{SHORT}$ from the short regression is\n",
    "$$\n",
    "\\hat{\\alpha}_{SHORT} \\overset{p}{\\to} \\frac{Cov(y_i, x_i)}{Var(x_i)} = \\alpha_0 + \\beta_0 \\frac{Cov(z_i, x_i)}{Var(x_i)}\n",
    "$$\n",
    "\n",
    "Consider data $D= (y_i, x_i, z_i)_{i=1}^n$, where the true model is:\n",
    "\n",
    "$$\n",
    "\\begin{aligned}\n",
    "& y_i = x_i' \\alpha_0  + z_i' \\beta_0 + \\varepsilon_i \\\\\n",
    "& x_i = z_i' \\gamma_0 + u_i\n",
    "\\end{aligned}\n",
    "$$\n",
    "\n",
    "Let's investigate the Omitteb Variable Bias by simulation."
   ]
  },
  {
   "cell_type": "code",
   "execution_count": 7,
   "metadata": {},
   "outputs": [],
   "source": [
    "np.random.seed(1)\n",
    "\n",
    "# Init\n",
    "N = 1000\n",
    "a = 1\n",
    "b = -.3\n",
    "c = 3\n",
    "\n",
    "# Generate data\n",
    "z = np.random.normal(0,1,N).reshape(-1,1)\n",
    "u = np.random.normal(0,1,N).reshape(-1,1)\n",
    "x = c*z + u\n",
    "e = np.random.normal(0,1,N).reshape(-1,1)\n",
    "y = a*x + b*z + e"
   ]
  },
  {
   "cell_type": "code",
   "execution_count": 8,
   "metadata": {},
   "outputs": [
    {
     "name": "stdout",
     "output_type": "stream",
     "text": [
      "alpha OLS: 0.8932 (true=1)\n"
     ]
    }
   ],
   "source": [
    "# Estimate alpha by OLS\n",
    "ols_coeff = inv(x.T @ x) @ x.T @ y\n",
    "alpha_ols = ols_coeff[0][0]\n",
    "\n",
    "print('alpha OLS: %.4f (true=%1.0f)' % (alpha_ols, a))"
   ]
  },
  {
   "cell_type": "markdown",
   "metadata": {},
   "source": [
    "In our case the expected bias is:\n",
    "\n",
    "$$\n",
    "Bias = \\beta_0 \\frac{Cov(z_i, x_i)}{Var(x_i)} = \\\\\n",
    "= \\beta_0 \\frac{Cov(z_i' \\gamma_0 + u_i, x_i)}{Var(z_i' \\gamma_0 + u_i)} = \\\\\n",
    "= \\beta_0 \\frac{\\gamma_0 Var(z_i)}{\\gamma_0^2 Var(z_i) + Var(u_i)} = \\\\\n",
    "= b \\frac{c}{c^2 + 1}\n",
    "$$"
   ]
  },
  {
   "cell_type": "code",
   "execution_count": 9,
   "metadata": {},
   "outputs": [
    {
     "name": "stdout",
     "output_type": "stream",
     "text": [
      "Bias: -0.1068 (expected=-0.0900)\n"
     ]
    }
   ],
   "source": [
    "# Expected bias\n",
    "bias = alpha_ols - a\n",
    "exp_bias = b * c / (c**2 + 1)\n",
    "\n",
    "print('Bias: %.4f (expected=%.4f)' % (bias, exp_bias))"
   ]
  },
  {
   "cell_type": "markdown",
   "metadata": {},
   "source": [
    "## Pre-test bias"
   ]
  },
  {
   "cell_type": "markdown",
   "metadata": {},
   "source": [
    "Consider data $D= (y_i, x_i, z_i)_{i=1}^n$, where the true model is:\n",
    "\n",
    "$$\n",
    "\\begin{aligned}\n",
    "& y_i = x_i' \\alpha_0  + z_i' \\beta_0 + \\varepsilon_i \\\\\n",
    "& x_i = z_i' \\gamma_0 + u_i\n",
    "\\end{aligned}\n",
    "$$\n",
    "\n",
    "Where $x_i$ is the variable of interest (we want to make inference on $\\alpha_0$) and $z_i$ is a high dimensional set of control variables. \n",
    "\n",
    "From now on, we will work under the following assumptions:\n",
    "\n",
    "- $\\dim(x_i)=1$ for all $n$\n",
    "- $\\beta_0$ uniformely bounded in $n$\n",
    "- Strict exogeneity: $\\mathbb E[\\varepsilon_i | x_i, z_i] = 0$ and $\\mathbb E[u_i | z_i] = 0$\n",
    "- $\\beta_0$ and $\\gamma_0$ have dimension (and hence value) that depend on $n$\n",
    "\n",
    "Pre-Testing procedure:\n",
    "\n",
    "1. Regress $y_i$ on $x_i$ and $z_i$\n",
    "2. For each $j = 1, ..., p = \\dim(z_i)$ calculate a test statistic $t_j$\n",
    "3. Let $\\hat{T} = \\{ j: |t_j| > C > 0 \\}$ for some constant $C$ (set of statistically significant coefficients).\n",
    "4. Re-run the new \"model\" using $(x_i, z_{\\hat{T},i})$ (i.e. using the selected covariates with statistically significant coefficients).\n",
    "5. Perform statistical inference (i.e. confidence intervals and hypothesis tests) as if no model selection had been done.\n",
    "\n",
    "Pre-testing leads to incorrect inference."
   ]
  },
  {
   "cell_type": "code",
   "execution_count": 13,
   "metadata": {},
   "outputs": [],
   "source": [
    "# Pre-testing code\n",
    "def pre_testing(a, b, c, N, simulations=1000):\n",
    "    np.random.seed(1)\n",
    "    \n",
    "    # Init\n",
    "    alpha = {'Long': np.zeros((simulations,1)),\n",
    "            'Short': np.zeros((simulations,1)),\n",
    "            'Pre-test': np.zeros((simulations,1))}\n",
    "\n",
    "    # Loop over simulations\n",
    "    for i in range(simulations):\n",
    "        \n",
    "        # Generate data\n",
    "        z = np.random.normal(0,1,N).reshape(-1,1)\n",
    "        u = np.random.normal(0,1,N).reshape(-1,1)\n",
    "        x = c*z + u\n",
    "        e = np.random.normal(0,1,N).reshape(-1,1)\n",
    "        y = a*x + b*z + e\n",
    "        \n",
    "        # Compute coefficients\n",
    "        xz = np.concatenate([x,z], axis=1)\n",
    "        alpha['Long'][i] = (inv(xz.T @ xz) @ xz.T @ y)[0][0]\n",
    "        alpha['Short'][i] = inv(x.T @ x) @ x.T @ y\n",
    "        \n",
    "        # Compute significance test on beta_hat\n",
    "        beta_hat = (inv(xz.T @ xz) @ xz.T @ y)[1][0]\n",
    "        residuals = y - alpha['Long'][i]*x - beta_hat*z\n",
    "        sigma_hat = np.var(residuals)\n",
    "        beta_std = np.sqrt( inv(xz.T @ xz)[1,1] * sigma_hat )\n",
    "        t = beta_hat/beta_std\n",
    "        \n",
    "        # Select specification based on test\n",
    "        if np.abs(t)>1.96:\n",
    "            alpha['Pre-test'][i] = alpha['Long'][i]\n",
    "        else:\n",
    "            alpha['Pre-test'][i] = alpha['Short'][i]\n",
    "    \n",
    "    return alpha"
   ]
  },
  {
   "cell_type": "code",
   "execution_count": 14,
   "metadata": {},
   "outputs": [
    {
     "name": "stdout",
     "output_type": "stream",
     "text": [
      "Mean alpha Long = 0.9994\n",
      "Mean alpha Short = 0.9095\n",
      "Mean alpha Pre-test = 0.9925\n"
     ]
    }
   ],
   "source": [
    "# Get pre_test alpha\n",
    "alpha = pre_testing(a, b, c, N)\n",
    "\n",
    "for key, value in alpha.items():\n",
    "    print('Mean alpha %s = %.4f' % (key, np.mean(value)))"
   ]
  },
  {
   "cell_type": "markdown",
   "metadata": {},
   "source": [
    "The pre-testing coefficient is much less biased than the short regression one. But it's still biased."
   ]
  },
  {
   "cell_type": "code",
   "execution_count": 15,
   "metadata": {},
   "outputs": [],
   "source": [
    "def plot_alpha(alpha, a):\n",
    "    \n",
    "    fig = plt.figure(figsize=(17,6))\n",
    "\n",
    "    # Plot distributions\n",
    "    x_max = np.max([np.max(np.abs(x-a)) for x in alpha.values()])\n",
    "\n",
    "    # All axes\n",
    "    for i, key in enumerate(alpha.keys()):\n",
    "        \n",
    "        # Reshape exisiting subplots\n",
    "        k = len(fig.axes)\n",
    "        for i in range(k):\n",
    "            fig.axes[i].change_geometry(1, k+1, i+1)\n",
    "            \n",
    "        # Add new plot\n",
    "        ax = fig.add_subplot(1, k+1, k+1)\n",
    "        ax.hist(alpha[key], bins=30)\n",
    "        ax.set_title(key)\n",
    "        ax.set_xlim([a-x_max, a+x_max])\n",
    "        ax.axvline(a, c='r', ls='--')\n",
    "        legend_text = [r'$\\alpha_0=%.0f$' % a, r'$\\hat \\alpha=%.4f$' % np.mean(alpha[key])]\n",
    "        ax.legend(legend_text, loc='upper right')"
   ]
  },
  {
   "cell_type": "code",
   "execution_count": 16,
   "metadata": {},
   "outputs": [
    {
     "data": {
      "image/png": "[encoded data removed]",
      "text/plain": [
       "<Figure size 1224x432 with 3 Axes>"
      ]
     },
     "metadata": {},
     "output_type": "display_data"
    }
   ],
   "source": [
    "# Plot\n",
    "plot_alpha(alpha, a)"
   ]
  },
  {
   "cell_type": "markdown",
   "metadata": {},
   "source": [
    "When is pre-testing a problem? When the magnitude of $\\beta_0$ is small with respect to the sample size"
   ]
  },
  {
   "cell_type": "code",
   "execution_count": 17,
   "metadata": {},
   "outputs": [
    {
     "data": {
      "image/png": "[encoded data removed]",
      "text/plain": [
       "<Figure size 1224x432 with 3 Axes>"
      ]
     },
     "metadata": {},
     "output_type": "display_data"
    }
   ],
   "source": [
    "# With a smaller b\n",
    "b_small = b/2\n",
    "\n",
    "# Get pre_test alpha\n",
    "alpha = pre_testing(a, b_small, c, N)\n",
    "\n",
    "# Plot\n",
    "plot_alpha(alpha, a)"
   ]
  },
  {
   "cell_type": "code",
   "execution_count": 18,
   "metadata": {},
   "outputs": [
    {
     "data": {
      "image/png": "[encoded data removed]",
      "text/plain": [
       "<Figure size 1224x432 with 3 Axes>"
      ]
     },
     "metadata": {},
     "output_type": "display_data"
    }
   ],
   "source": [
    "# With a bigger b\n",
    "b_big = b*2\n",
    "\n",
    "# Get pre_test alpha\n",
    "alpha = pre_testing(a, b_big, c, N)\n",
    "\n",
    "# Plot\n",
    "plot_alpha(alpha, a)"
   ]
  },
  {
   "cell_type": "markdown",
   "metadata": {},
   "source": [
    "What does \"*big with respect to the sample size*\" mean?\n",
    "\n",
    "Let's have a look at a process where the coefficient does not depend on the sample size."
   ]
  },
  {
   "cell_type": "code",
   "execution_count": 19,
   "metadata": {},
   "outputs": [
    {
     "name": "stdout",
     "output_type": "stream",
     "text": [
      "Mean with n=100: 0.9442\n",
      "Mean with n=300: 0.9635\n",
      "Mean with n=1000: 0.9925\n",
      "Mean with n=3000: 0.9989\n"
     ]
    }
   ],
   "source": [
    "# Case 1: beta that does not vary with sample size\n",
    "N_sequence = [100,300,1000,3000]\n",
    "alpha = {}\n",
    "\n",
    "# Get sequence\n",
    "for k, n in enumerate(N_sequence):\n",
    "    label = 'N = %.0f' % n\n",
    "    alpha[label] = pre_testing(a, b, c, n)['Pre-test']\n",
    "    print('Mean with n=%.0f: %.4f' % (n, np.mean(alpha[label])))"
   ]
  },
  {
   "cell_type": "code",
   "execution_count": 20,
   "metadata": {
    "scrolled": false
   },
   "outputs": [
    {
     "data": {
      "image/png": "[encoded data removed]",
      "text/plain": [
       "<Figure size 1224x432 with 4 Axes>"
      ]
     },
     "metadata": {},
     "output_type": "display_data"
    }
   ],
   "source": [
    "# Plot\n",
    "plot_alpha(alpha, a)"
   ]
  },
  {
   "cell_type": "markdown",
   "metadata": {},
   "source": [
    "Now suppose the coefficient depends on the sample size."
   ]
  },
  {
   "cell_type": "code",
   "execution_count": 21,
   "metadata": {},
   "outputs": [
    {
     "name": "stdout",
     "output_type": "stream",
     "text": [
      "Mean with n=100: 0.9703\n",
      "Mean with n=300: 0.9838\n",
      "Mean with n=1000: 0.9914\n",
      "Mean with n=3000: 0.9947\n"
     ]
    }
   ],
   "source": [
    "# Case 2: beta that does not vary with sample size\n",
    "beta =  b * 30 / np.sqrt(N_sequence)\n",
    "\n",
    "# Get sequence\n",
    "alpha = {}\n",
    "for k, n in enumerate(N_sequence):\n",
    "    label = 'N = %.0f' % n\n",
    "    alpha[label] = pre_testing(a, beta[k], c, n)['Pre-test']\n",
    "    print('Mean with n=%.0f: %.4f' % (n, np.mean(alpha[label])))"
   ]
  },
  {
   "cell_type": "code",
   "execution_count": 22,
   "metadata": {},
   "outputs": [
    {
     "data": {
      "image/png": "[encoded data removed]",
      "text/plain": [
       "<Figure size 1224x432 with 4 Axes>"
      ]
     },
     "metadata": {},
     "output_type": "display_data"
    }
   ],
   "source": [
    "# Plot\n",
    "plot_alpha(alpha, a)"
   ]
  },
  {
   "cell_type": "markdown",
   "metadata": {},
   "source": [
    "Post-double selection solves this problem"
   ]
  },
  {
   "cell_type": "markdown",
   "metadata": {},
   "source": [
    "## Post-double selection"
   ]
  },
  {
   "cell_type": "markdown",
   "metadata": {},
   "source": [
    "Consider again data $D= (y_i, x_i, z_i)_{i=1}^n$, where the true model is:\n",
    "$$\n",
    "\\begin{aligned}\n",
    "& y_i = x_i' \\alpha_0  + z_i' \\beta_0 + \\varepsilon_i \\\\\n",
    "& x_i = z_i' \\gamma_0 + u_i\n",
    "\\end{aligned}\n",
    "$$\n",
    "\n",
    "We would like to guard against pretest bias if possible, in order to handle high dimensional models. A good pathway towards motivating procedures which guard against pretest bias is a discussion of classical partitioned regression.\n",
    "\n",
    "Consider a regression $y_i$ on $x_i$ and $z_i$. $x_i$ is the 1-dimensional variable of interest, $z_i$ is a high-dimensional set of control variables. We have the following procedure:\n",
    "\n",
    "1. **First Stage** selection: lasso $x_i$ on $z_i$. Let the selected variables be collected in the set $S_{FS} \\subseteq z_i$\n",
    "2. **Reduced Form** selection: lasso $y_i$ on $z_i$. Let the selected variables be collected in the set $S_{RF} \\subseteq z_i$\n",
    "3. Regress $y_i$ on $x_i$ and $S_{FS} \\cup S_{RF}$\n",
    "\n",
    "\n",
    "**Theorem**:\n",
    "Let $\\{P^n\\}$ be a sequence of data-generating processes for $D_n = (y_i, x_i, z_i)^n_{i=1} \\in (\\mathbb R \\times \\mathbb R \\times \\mathbb R^p) ^n$ where $p$ depends on $n$. For each $n$, the data are iid with $yi =  x_i'\\alpha_0^{(n)} + z_i' \\beta_0^{(n)} + \\varepsilon_i$ and $x_i = z_i' \\gamma_0^{(n)} + u_i$ where $\\mathbb E[\\varepsilon_i | x_i,z_i] = 0$ and $\\mathbb E[u_i|z_i] = 0$. The sparsity of the vectors  $\\beta_0^{(n)}$, $\\gamma_0^{(n)}$ is controlled by $|| \\beta_0^{(n)} ||_0 \\leq s$ with $s^2 (\\log p)^2/n \\to 0$. Suppose that additional regularity conditions on the model selection procedures and moments of the random variables $y_i$ , $x_i$ , $z_i$ as documented in Belloni et al. (2014). Then the confidence intervals, CI, from the post double selection procedure are uniformly valid. That is, for any confidence level $\\xi \\in (0, 1)$\n",
    "$$\n",
    "\t\t\\Pr(\\alpha_0 \\in CI) \\to 1- \\xi\n",
    "$$\n",
    "\n",
    "In order to have valid confidence intervals you want their bias to be negligibly. Since\n",
    "$$\n",
    "  CI = \\left[ \\hat{\\alpha} \\pm \\frac{1.96 \\cdot \\hat{\\sigma}}{\\sqrt{n}} \\right]\n",
    "$$\n",
    "\n",
    "If the bias is $o \\left( \\frac{1}{\\sqrt{n}} \\right)$ then there is no problem since it is asymptotically negligible w.r.t. the magnitude of the confidence interval. If however the the bias is $O \\left( \\frac{1}{\\sqrt{n}} \\right)$ then it has the same magnitude of the confidence interval and it does not asymptotically vanish. \n",
    "\n",
    "The idea of the proof is to use partitioned regression. An alternative way to think about the argument is: bound the omitted variables bias. Omitted variable bias comes from the product of 2 quantities related to the omitted variable:\n",
    "\n",
    "1. Its partial correlation with the outcome, and\n",
    "2. Its partial correlation with the variable of interest.\n",
    "\n",
    "If both those partial correlations are $O( \\sqrt{\\log p/n})$, then the omitted variables bias is $(s \\times O( \\sqrt{\\log p/n})^2 = o \\left( \\frac{1}{\\sqrt{n}} \\right)$, provided $s^2 (\\log p)^2/n \\to 0$. Relative to the $ \\frac{1}{\\sqrt{n}} $ convergence rate, the omitted variables bias is negligible. \n",
    "\n",
    "In our omitted variable bias case, we want $| \\beta_0 \\gamma_0 | = o \\left( \\frac{1}{\\sqrt{n}} \\right)$.  Post-double selection guarantees that \n",
    "\n",
    "- *Reduced form* selection (pre-testing): any \"missing\" variable has $|\\beta_{0j}| \\leq \\frac{c}{\\sqrt{n}}$\n",
    "- *First stage* selection (additional): any \"missing\" variable has $|\\gamma_{0j}| \\leq \\frac{c}{\\sqrt{n}}$\n",
    "\n",
    "\n",
    "As a consequence, as long as the number of omitted variables is finite, the omitted variable bias is \n",
    "$$\n",
    "\tOVB(\\alpha) = |\\beta_{0j}| \\cdot|\\gamma_{0j}| \\leq \\frac{c}{\\sqrt{n}} \\cdot \\frac{c}{\\sqrt{n}} = \\frac{c^2}{n} = o \\left(\\frac{1}{\\sqrt{n}}\\right)\n",
    "$$"
   ]
  },
  {
   "cell_type": "code",
   "execution_count": 31,
   "metadata": {},
   "outputs": [],
   "source": [
    "# Pre-testing code\n",
    "def post_double_selection(a, b, c, N, simulations=1000):\n",
    "    np.random.seed(1)\n",
    "    \n",
    "    # Init\n",
    "    alpha = {'Long': np.zeros((simulations,1)),\n",
    "            'Short': np.zeros((simulations,1)),\n",
    "            'Pre-test': np.zeros((simulations,1)),\n",
    "            'Post-double': np.zeros((simulations,1))}\n",
    "\n",
    "    # Loop over simulations\n",
    "    for i in range(simulations):\n",
    "        \n",
    "        # Generate data\n",
    "        z = np.random.normal(0,1,N).reshape(-1,1)\n",
    "        u = np.random.normal(0,1,N).reshape(-1,1)\n",
    "        x = c*z + u\n",
    "        e = np.random.normal(0,1,N).reshape(-1,1)\n",
    "        y = a*x + b*z + e\n",
    "        \n",
    "        # Compute coefficients\n",
    "        xz = np.concatenate([x,z], axis=1)\n",
    "        alpha['Long'][i] = (inv(xz.T @ xz) @ xz.T @ y)[0][0]\n",
    "        alpha['Short'][i] = inv(x.T @ x) @ x.T @ y\n",
    "        \n",
    "        # Compute significance test on z\n",
    "        beta_hat = (inv(xz.T @ xz) @ xz.T @ y)[1][0]\n",
    "        residuals = y - alpha['Long'][i]*x - beta_hat*z\n",
    "        sigma2_hat = np.var(residuals)\n",
    "        beta_std = np.sqrt( inv(xz.T @ xz)[1,1] * sigma2_hat )\n",
    "        t1 = beta_hat/beta_std\n",
    "        \n",
    "        # Compute \"first stage\" test on z\n",
    "        gamma_hat = inv(z.T @ z) @ z.T @ x\n",
    "        residuals = x - gamma_hat*z\n",
    "        sigma2_hat = np.var(residuals)\n",
    "        gamma_std = np.sqrt( inv(x.T @ x) * sigma2_hat )\n",
    "        t2 = gamma_hat/gamma_std\n",
    "        \n",
    "        # Select specification based on test\n",
    "        if np.abs(t1)>1.96:\n",
    "            alpha['Pre-test'][i] = alpha['Long'][i]\n",
    "        else:\n",
    "            alpha['Pre-test'][i] = alpha['Short'][i]\n",
    "            \n",
    "        # Select specification based on test\n",
    "        if np.abs(t1)>1.96 or np.abs(t2)>1.96:\n",
    "            alpha['Post-double'][i] = alpha['Long'][i]\n",
    "        else:\n",
    "            alpha['Post-double'][i] = alpha['Short'][i]\n",
    "    \n",
    "    return alpha"
   ]
  },
  {
   "cell_type": "code",
   "execution_count": 32,
   "metadata": {},
   "outputs": [
    {
     "name": "stdout",
     "output_type": "stream",
     "text": [
      "Mean alpha Long = 0.9994\n",
      "Mean alpha Short = 0.9095\n",
      "Mean alpha Pre-test = 0.9925\n",
      "Mean alpha Post-double = 0.9994\n"
     ]
    }
   ],
   "source": [
    "# Get pre_test alpha\n",
    "alpha = post_double_selection(a, b, c, N)\n",
    "\n",
    "for key, value in alpha.items():\n",
    "    print('Mean alpha %s = %.4f' % (key, np.mean(value)))"
   ]
  },
  {
   "cell_type": "code",
   "execution_count": 33,
   "metadata": {},
   "outputs": [
    {
     "data": {
      "image/png": "[encoded data removed]",
      "text/plain": [
       "<Figure size 1224x432 with 4 Axes>"
      ]
     },
     "metadata": {},
     "output_type": "display_data"
    }
   ],
   "source": [
    "# Plot\n",
    "plot_alpha(alpha, a)"
   ]
  },
  {
   "cell_type": "markdown",
   "metadata": {},
   "source": [
    "### Application to Effect of Legalized Abortion on Crime"
   ]
  },
  {
   "cell_type": "code",
   "execution_count": null,
   "metadata": {},
   "outputs": [],
   "source": []
  },
  {
   "cell_type": "markdown",
   "metadata": {},
   "source": [
    "## Double/debiased machine learning"
   ]
  },
  {
   "cell_type": "markdown",
   "metadata": {},
   "source": [
    "This section is taken from [Chernozhukov, V., Chetverikov, D., Demirer, M., Duflo, E., Hansen, C., Newey, W., & Robins, J. (2018). \"*Double/debiased machine learning for treatment and structural parameters*\"](https://onlinelibrary.wiley.com/doi/abs/10.1111/ectj.12097)."
   ]
  },
  {
   "cell_type": "markdown",
   "metadata": {},
   "source": [
    "Consider the following partially linear model\n",
    "\n",
    "$$\n",
    "y = \\beta_0 D + g_0(X) + \\varepsilon \\\\\n",
    "D = m_0(X) + u\n",
    "$$\n",
    "\n",
    "where $y$ is the outcome variable, $D$ is the treatment to interest and $X$ is a potentially high-dimensional set of controls."
   ]
  },
  {
   "cell_type": "markdown",
   "metadata": {},
   "source": [
    "#### Naive approach\n",
    "\n",
    "A naive approach to estimation of $\\beta_0$ using ML methods would be, for example, to construct a sophisticated ML estimator $\\beta_0 D + g_0(X)$ for learning the regression function $\\beta_0 D$ + $g_0(X)$.\n",
    "\n",
    "1. Split the sample in two: main sample and auxiliary sample\n",
    "2. Use the auxiliary sample to estimate $\\hat g_0(X)$\n",
    "3. Use the main sample to estimate the residualized OLS estimator\n",
    "\n",
    "$$\n",
    "\\hat{\\beta}_{0}=\\left(\\frac{1}{n} \\sum_{i \\in I} D_{i}^{2}\\right)^{-1} \\frac{1}{n} \\sum_{i \\in I} D_{i}\\left(Y_{i}-\\hat{g}_{0}\\left(X_{i}\\right)\\right)\n",
    "$$\n",
    "\n",
    "This estimator is going to have two problems:\n",
    "\n",
    "1. Slow rate of convergence, i.e. slower than $n^{1/2}$\n",
    "2. It will be biased"
   ]
  },
  {
   "cell_type": "markdown",
   "metadata": {},
   "source": [
    "#### Orthogonalization\n",
    "\n",
    "Now consider a second construction that employs an orthogonalized formulation obtained by directly partialling out the effect of $X$ from $D$ to obtain the orthogonalized regressor $V = D − m_0(X)$.\n",
    "\n",
    "1. Split the sample in two: main sample and auxiliary sample\n",
    "2. Use the auxiliary sample to estimate $\\hat g_0(X)$\n",
    "3. Use the auxiliary sample to estimate $\\hat m_0(X)$\n",
    "4. Build the orthogonalized component of $X$: $\\hat u = D - \\hat m_0(X)$\n",
    "5. Use the main sample to estimate the double-residualized OLS estimator\n",
    "\n",
    "$$\n",
    "\\hat{\\beta}_{0}=\\left(\\frac{1}{n} \\sum_{i \\in I} \\hat u_i D_{i} \\right)^{-1} \\frac{1}{n} \\sum_{i \\in I} \\hat u_i \\left(Y_{i}-\\hat{g}_{0}\\left(X_{i}\\right)\\right)\n",
    "$$\n",
    "\n",
    "The estimator is unbiased but still has a lower rate of convergence because of sample splitting. The proble is solved by inverting the split sample, re-estimating the coefficient and averaging the two estimates. Note that this procedure is valid since the two estimates are independent by the sample splitting procedure."
   ]
  },
  {
   "cell_type": "markdown",
   "metadata": {},
   "source": [
    "### Application to AJR02"
   ]
  },
  {
   "cell_type": "markdown",
   "metadata": {},
   "source": [
    "In this section we are going to replicate 6.3 of the \"*Double/debiased machine learning*\" paper based on [Acemoglu, Johnson, Robinson (2002), \"*The Colonial Origins of Comparative Development*\"](https://economics.mit.edu/files/4123).\n",
    "\n",
    "We first load the dataset"
   ]
  },
  {
   "cell_type": "code",
   "execution_count": 41,
   "metadata": {},
   "outputs": [],
   "source": [
    "# Load Acemoglu Johnson Robinson Dataset\n",
    "df = pd.read_csv('data/AJR02.csv')\n",
    "df = df.loc[df['baseco']==1,:]\n",
    "df = df[['avexpr','logpgp95', 'lat_abst', 'asia', 'africa', 'other','logem4']]\n",
    "df = df.reset_index()"
   ]
  },
  {
   "cell_type": "code",
   "execution_count": 42,
   "metadata": {},
   "outputs": [
    {
     "data": {
      "text/html": [
       "<div>\n",
       "<style scoped>\n",
       "    .dataframe tbody tr th:only-of-type {\n",
       "        vertical-align: middle;\n",
       "    }\n",
       "\n",
       "    .dataframe tbody tr th {\n",
       "        vertical-align: top;\n",
       "    }\n",
       "\n",
       "    .dataframe thead th {\n",
       "        text-align: right;\n",
       "    }\n",
       "</style>\n",
       "<table border=\"1\" class=\"dataframe\">\n",
       "  <thead>\n",
       "    <tr style=\"text-align: right;\">\n",
       "      <th></th>\n",
       "      <th>index</th>\n",
       "      <th>avexpr</th>\n",
       "      <th>logpgp95</th>\n",
       "      <th>lat_abst</th>\n",
       "      <th>asia</th>\n",
       "      <th>africa</th>\n",
       "      <th>other</th>\n",
       "      <th>logem4</th>\n",
       "    </tr>\n",
       "  </thead>\n",
       "  <tbody>\n",
       "    <tr>\n",
       "      <th>0</th>\n",
       "      <td>1</td>\n",
       "      <td>5.363637</td>\n",
       "      <td>7.770645</td>\n",
       "      <td>0.136667</td>\n",
       "      <td>0</td>\n",
       "      <td>1</td>\n",
       "      <td>0</td>\n",
       "      <td>5.634790</td>\n",
       "    </tr>\n",
       "    <tr>\n",
       "      <th>1</th>\n",
       "      <td>3</td>\n",
       "      <td>6.386363</td>\n",
       "      <td>9.133459</td>\n",
       "      <td>0.377778</td>\n",
       "      <td>0</td>\n",
       "      <td>0</td>\n",
       "      <td>0</td>\n",
       "      <td>4.232656</td>\n",
       "    </tr>\n",
       "    <tr>\n",
       "      <th>2</th>\n",
       "      <td>5</td>\n",
       "      <td>9.318182</td>\n",
       "      <td>9.897972</td>\n",
       "      <td>0.300000</td>\n",
       "      <td>0</td>\n",
       "      <td>0</td>\n",
       "      <td>1</td>\n",
       "      <td>2.145931</td>\n",
       "    </tr>\n",
       "    <tr>\n",
       "      <th>3</th>\n",
       "      <td>11</td>\n",
       "      <td>4.454546</td>\n",
       "      <td>6.845880</td>\n",
       "      <td>0.144444</td>\n",
       "      <td>0</td>\n",
       "      <td>1</td>\n",
       "      <td>0</td>\n",
       "      <td>5.634790</td>\n",
       "    </tr>\n",
       "    <tr>\n",
       "      <th>4</th>\n",
       "      <td>12</td>\n",
       "      <td>5.136363</td>\n",
       "      <td>6.877296</td>\n",
       "      <td>0.266667</td>\n",
       "      <td>1</td>\n",
       "      <td>0</td>\n",
       "      <td>0</td>\n",
       "      <td>4.268438</td>\n",
       "    </tr>\n",
       "  </tbody>\n",
       "</table>\n",
       "</div>"
      ],
      "text/plain": [
       "   index    avexpr  logpgp95  lat_abst  asia  africa  other    logem4\n",
       "0      1  5.363637  7.770645  0.136667     0       1      0  5.634790\n",
       "1      3  6.386363  9.133459  0.377778     0       0      0  4.232656\n",
       "2      5  9.318182  9.897972  0.300000     0       0      1  2.145931\n",
       "3     11  4.454546  6.845880  0.144444     0       1      0  5.634790\n",
       "4     12  5.136363  6.877296  0.266667     1       0      0  4.268438"
      ]
     },
     "execution_count": 42,
     "metadata": {},
     "output_type": "execute_result"
    }
   ],
   "source": [
    "df.head()"
   ]
  },
  {
   "cell_type": "code",
   "execution_count": 43,
   "metadata": {},
   "outputs": [
    {
     "name": "stdout",
     "output_type": "stream",
     "text": [
      "<class 'pandas.core.frame.DataFrame'>\n",
      "RangeIndex: 64 entries, 0 to 63\n",
      "Data columns (total 8 columns):\n",
      " #   Column    Non-Null Count  Dtype  \n",
      "---  ------    --------------  -----  \n",
      " 0   index     64 non-null     int64  \n",
      " 1   avexpr    64 non-null     float64\n",
      " 2   logpgp95  64 non-null     float64\n",
      " 3   lat_abst  64 non-null     float64\n",
      " 4   asia      64 non-null     int64  \n",
      " 5   africa    64 non-null     int64  \n",
      " 6   other     64 non-null     int64  \n",
      " 7   logem4    64 non-null     float64\n",
      "dtypes: float64(4), int64(4)\n",
      "memory usage: 4.1 KB\n"
     ]
    }
   ],
   "source": [
    "df.info()"
   ]
  },
  {
   "cell_type": "markdown",
   "metadata": {},
   "source": [
    "In their paper, AJR note that their IV strategy will be invalidated if other factors are also highly persistent and related to the development of institutions within a country and to the country’s GDP. A leading candidate for such a factor, as they discuss, is geography. AJR address this by assuming that the confounding effect of geography is adequately captured by a linear term in distance from the equator and a set of continent dummy variables. \n",
    "\n",
    "They inclue their results in table 2."
   ]
  },
  {
   "cell_type": "code",
   "execution_count": 44,
   "metadata": {},
   "outputs": [],
   "source": [
    "# Add constant term to dataset\n",
    "df['const'] = 1\n",
    "\n",
    "# Create lists of variables to be used in each regression\n",
    "X1 = df[['const', 'avexpr']]\n",
    "X2 = df[['const', 'avexpr', 'lat_abst']]\n",
    "X3 = df[['const', 'avexpr', 'lat_abst', 'asia', 'africa', 'other']]\n",
    "y = df['logpgp95']\n",
    "\n",
    "# Estimate an OLS regression for each set of variables\n",
    "reg1 = sm.OLS(y, X1, missing='drop').fit()\n",
    "reg2 = sm.OLS(y, X2, missing='drop').fit()\n",
    "reg3 = sm.OLS(y, X3, missing='drop').fit()"
   ]
  },
  {
   "cell_type": "code",
   "execution_count": 45,
   "metadata": {},
   "outputs": [
    {
     "data": {
      "text/html": [
       "<table class=\"simpletable\">\n",
       "<tr>\n",
       "          <td></td>         <th>Model 1</th> <th>Model 3</th>  <th>Model 4</th>\n",
       "</tr>\n",
       "<tr>\n",
       "  <th>const</th>            <td>4.66***</td> <td>4.73***</td>  <td>5.74***</td>\n",
       "</tr>\n",
       "<tr>\n",
       "  <th></th>                 <td>(0.41)</td>  <td>(0.40)</td>   <td>(0.40)</td> \n",
       "</tr>\n",
       "<tr>\n",
       "  <th>avexpr</th>           <td>0.52***</td> <td>0.47***</td>  <td>0.40***</td>\n",
       "</tr>\n",
       "<tr>\n",
       "  <th></th>                 <td>(0.06)</td>  <td>(0.06)</td>   <td>(0.06)</td> \n",
       "</tr>\n",
       "<tr>\n",
       "  <th>lat_abst</th>            <td></td>     <td>1.58**</td>    <td>0.88</td>  \n",
       "</tr>\n",
       "<tr>\n",
       "  <th></th>                    <td></td>     <td>(0.71)</td>   <td>(0.63)</td> \n",
       "</tr>\n",
       "<tr>\n",
       "  <th>asia</th>                <td></td>        <td></td>      <td>-0.58**</td>\n",
       "</tr>\n",
       "<tr>\n",
       "  <th></th>                    <td></td>        <td></td>      <td>(0.23)</td> \n",
       "</tr>\n",
       "<tr>\n",
       "  <th>africa</th>              <td></td>        <td></td>     <td>-0.88***</td>\n",
       "</tr>\n",
       "<tr>\n",
       "  <th></th>                    <td></td>        <td></td>      <td>(0.17)</td> \n",
       "</tr>\n",
       "<tr>\n",
       "  <th>other</th>               <td></td>        <td></td>       <td>0.11</td>  \n",
       "</tr>\n",
       "<tr>\n",
       "  <th></th>                    <td></td>        <td></td>      <td>(0.38)</td> \n",
       "</tr>\n",
       "<tr>\n",
       "  <th>R-squared</th>         <td>0.54</td>    <td>0.57</td>     <td>0.71</td>  \n",
       "</tr>\n",
       "<tr>\n",
       "  <th>R-squared Adj.</th>    <td>0.53</td>    <td>0.56</td>     <td>0.69</td>  \n",
       "</tr>\n",
       "<tr>\n",
       "  <th>No. observations</th>   <td>64</td>      <td>64</td>       <td>64</td>   \n",
       "</tr>\n",
       "</table>"
      ],
      "text/plain": [
       "<class 'statsmodels.iolib.summary2.Summary'>\n",
       "\"\"\"\n",
       "\n",
       "=========================================\n",
       "                 Model 1 Model 3 Model 4 \n",
       "-----------------------------------------\n",
       "const            4.66*** 4.73*** 5.74*** \n",
       "                 (0.41)  (0.40)  (0.40)  \n",
       "avexpr           0.52*** 0.47*** 0.40*** \n",
       "                 (0.06)  (0.06)  (0.06)  \n",
       "lat_abst                 1.58**  0.88    \n",
       "                         (0.71)  (0.63)  \n",
       "asia                             -0.58** \n",
       "                                 (0.23)  \n",
       "africa                           -0.88***\n",
       "                                 (0.17)  \n",
       "other                            0.11    \n",
       "                                 (0.38)  \n",
       "R-squared        0.54    0.57    0.71    \n",
       "R-squared Adj.   0.53    0.56    0.69    \n",
       "No. observations 64      64      64      \n",
       "=========================================\n",
       "Standard errors in parentheses.\n",
       "* p<.1, ** p<.05, ***p<.01\n",
       "\"\"\""
      ]
     },
     "execution_count": 45,
     "metadata": {},
     "output_type": "execute_result"
    }
   ],
   "source": [
    "info_dict={'No. observations' : lambda x: f\"{int(x.nobs):d}\"}\n",
    "\n",
    "results_table = summary_col(results=[reg1,reg2,reg3],\n",
    "                            float_format='%0.2f',\n",
    "                            stars = True,\n",
    "                            model_names=['Model 1','Model 3','Model 4'],\n",
    "                            info_dict=info_dict,\n",
    "                            regressor_order=['const','avexpr','lat_abst','asia','africa'])\n",
    "\n",
    "results_table"
   ]
  },
  {
   "cell_type": "markdown",
   "metadata": {},
   "source": [
    "Using DML allows us to relax this assumption and to replace it by a weaker assumption that geography can be sufficiently controlled by an unknown function of distance from the equator and continent dummies, which can be learned by ML methods.\n",
    "\n",
    "In particular, our framework is\n",
    "\n",
    "$$\n",
    "{logpgp95} = \\beta_0 \\times {avexpr} + g_0({geography}) + \\varepsilon \\\\\n",
    "{avexpr} = m_0({geography}) + u\n",
    "$$\n",
    "\n",
    "So that the double/debiased machine learning procedure is\n",
    "\n",
    "1. Split the sample in two: main sample and auxiliary sample\n",
    "2. Use the auxiliary sample to estimate $\\hat g_0({geography})$ \n",
    "3. Use the auxiliary sample to estimate $\\hat m_0({geography})$\n",
    "4. Build the orthogonalized component of ${geography}$: $\\hat u = {avexpr} - \\hat m_0({geography})$\n",
    "5. Use the main sample to estimate the double-residualized OLS estimator\n",
    "\n",
    "$$\n",
    "\\hat{\\beta}_{0}=\\left(\\frac{1}{n} \\sum_{i \\in I} \\hat u_i \\times {avexpr}_{i} \\right)^{-1} \\frac{1}{n} \\sum_{i \\in I} \\hat u_i \\times \\left({logpgp95}_{i}-\\hat{g}_{0}\\left({geography}_{i}\\right)\\right)\n",
    "$$"
   ]
  },
  {
   "cell_type": "code",
   "execution_count": 46,
   "metadata": {},
   "outputs": [],
   "source": [
    "# Generate variables\n",
    "D = df['avexpr'].values.reshape(-1,1)\n",
    "X = df[['const', 'lat_abst', 'asia', 'africa', 'other']].values.reshape(-1,5)\n",
    "y = df['logpgp95'].values.reshape(-1,1)\n",
    "Z = df[['const', 'lat_abst', 'asia', 'africa', 'other','logem4']].values.reshape(-1,6)"
   ]
  },
  {
   "cell_type": "markdown",
   "metadata": {},
   "source": [
    "Now we write down the whole procedure."
   ]
  },
  {
   "cell_type": "code",
   "execution_count": 152,
   "metadata": {},
   "outputs": [],
   "source": [
    "def estimate_beta(algorithm, alg_name, D, X, y, Z, size=0.5, verbose=False):\n",
    "    \n",
    "    # Split sample\n",
    "    D_main, D_aux, X_main, X_aux, y_main, y_aux, Z_main, Z_aux = train_test_split(D, X, y, Z, test_size=size)\n",
    "    \n",
    "    # Residualize y on D\n",
    "    y_resid = y_aux - D_aux @ inv(D_aux.T @ D_aux) @ D_aux.T @ y_aux\n",
    "    alg_fitted = algorithm.fit(X=X_aux, y=y_resid.ravel())\n",
    "    \n",
    "    # Estimate g0\n",
    "    g0 = alg_fitted.predict(X_main).reshape(-1,1)\n",
    "    alg_fitted = algorithm.fit(X=Z_aux, y=D_aux.ravel())\n",
    "    \n",
    "    # Estimate m0\n",
    "    m0 = algorithm.predict(Z_main).reshape(-1,1)\n",
    "    \n",
    "    # Build u_hat\n",
    "    u_hat = D_main - m0\n",
    "    \n",
    "    # Estimate beta\n",
    "    beta = inv(u_hat.T @ D_main) @ u_hat.T @ (y_main - g0_tree)\n",
    "    if verbose:\n",
    "        print('%s : %.4f' % (alg_name, beta[0][0]))\n",
    "    return beta[0][0]"
   ]
  },
  {
   "cell_type": "markdown",
   "metadata": {},
   "source": [
    "We now repeat the same process with different algorithms. In particular, we consider:\n",
    "\n",
    "1. Lasso\n",
    "2. Regression Trees\n",
    "3. Random Forest\n",
    "4. Boosting"
   ]
  },
  {
   "cell_type": "code",
   "execution_count": 128,
   "metadata": {},
   "outputs": [],
   "source": [
    "# List all algorithms\n",
    "algorithms = {'Lasso   ': Lasso(), \n",
    "              'Tree    ': DecisionTreeRegressor(), \n",
    "              'Forest  ': RandomForestRegressor(),\n",
    "              'Boosting': GradientBoostingRegressor()}"
   ]
  },
  {
   "cell_type": "code",
   "execution_count": 153,
   "metadata": {},
   "outputs": [
    {
     "name": "stdout",
     "output_type": "stream",
     "text": [
      "Lasso    : 0.9438\n",
      "Tree     : 0.6737\n",
      "Forest   : 0.7397\n",
      "Boosting : 1.0306\n"
     ]
    }
   ],
   "source": [
    "# Loop over algorithms\n",
    "for alg_name, algorithm in algorithms.items():\n",
    "    estimate_beta(algorithm, alg_name, D, X, y, Z, verbose=True)"
   ]
  },
  {
   "cell_type": "code",
   "execution_count": 183,
   "metadata": {},
   "outputs": [],
   "source": [
    "# Repeat 100 times\n",
    "def estimate_beta_n(algorithms, n, D, X, y, Z):\n",
    "    \n",
    "    # Init\n",
    "    betas = dict.fromkeys(algorithms.keys(), [])\n",
    "    \n",
    "    # Iterate n times\n",
    "    for i in range(n):\n",
    "    \n",
    "        # Loop over algorithms\n",
    "        for alg_name, algorithm in algoritms.items():\n",
    "            beta = estimate_beta(algorithm, alg_name, D, X, y, Z)\n",
    "            betas[alg_name] = np.append(betas[alg_name], beta)\n",
    "    \n",
    "    # Print coefficients and standard errors\n",
    "    for alg_name in algorithms.keys():\n",
    "        print('%s : %.4f (%.4f)' % (alg_name, np.mean(betas[alg_name]), np.std(betas[alg_name])))"
   ]
  },
  {
   "cell_type": "code",
   "execution_count": 184,
   "metadata": {},
   "outputs": [
    {
     "name": "stdout",
     "output_type": "stream",
     "text": [
      "Lasso    : 0.3898 (1.2581)\n",
      "Tree     : 1.9663 (4.4479)\n",
      "Forest   : 6.8110 (12.8342)\n",
      "Boosting : -1.8580 (7.1255)\n"
     ]
    }
   ],
   "source": [
    "estimate_beta_n(algorithms, 10, D, X, y, Z)"
   ]
  },
  {
   "cell_type": "code",
   "execution_count": null,
   "metadata": {},
   "outputs": [],
   "source": []
  }
 ],
 "metadata": {
  "kernelspec": {
   "display_name": "Python 3",
   "language": "python",
   "name": "python3"
  },
  "language_info": {
   "codemirror_mode": {
    "name": "ipython",
    "version": 3
   },
   "file_extension": ".py",
   "mimetype": "text/x-python",
   "name": "python",
   "nbconvert_exporter": "python",
   "pygments_lexer": "ipython3",
   "version": "3.8.5"
  }
 },
 "nbformat": 4,
 "nbformat_minor": 4
}
